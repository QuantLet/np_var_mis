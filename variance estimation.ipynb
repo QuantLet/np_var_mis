{
 "cells": [
  {
   "cell_type": "markdown",
   "metadata": {},
   "source": [
    "## Residual-based estimation\n",
    "\n",
    "Let $X \\sim U[-2,2]$ and \n",
    "\n",
    "\\begin{equation}\n",
    "Y_i=a\\left\\{X_i+2 \\exp \\left(-16 X_i^2\\right)\\right\\}+\\sigma\\left(X_i\\right) \\varepsilon_i\n",
    "\\end{equation}\n",
    "\n",
    "where $\\varepsilon \\sim \\mathcal{N} \\left(0,1\\right)$.\n",
    "\n",
    "The variance function is described by\n",
    "\n",
    "\\begin{equation}\n",
    "\\sigma \\left(x \\right) = 0.4 \\exp \\left(-2 x^2\\right)+0,2.\n",
    "\\end{equation}\n",
    "\n",
    "\n",
    "We estimate the regression function \n",
    "\\begin{equation}\n",
    "m \\left(X_{i} \\right) = \\mbox{ E} \\left(Y_{i} \\mid X_{i} \\right)\n",
    "\\end{equation}"
   ]
  },
  {
   "cell_type": "code",
   "execution_count": 5,
   "metadata": {},
   "outputs": [
    {
     "name": "stderr",
     "output_type": "stream",
     "text": [
      "/Users/lilimatic/opt/anaconda3/lib/python3.8/site-packages/pandas/core/computation/expressions.py:20: UserWarning: Pandas requires version '2.7.3' or newer of 'numexpr' (version '2.7.1' currently installed).\n",
      "  from pandas.core.computation.check import NUMEXPR_INSTALLED\n"
     ]
    }
   ],
   "source": [
    "from functions import *\n",
    "import matplotlib.pyplot as plt\n",
    "import pandas as pd"
   ]
  },
  {
   "cell_type": "code",
   "execution_count": 9,
   "metadata": {},
   "outputs": [
    {
     "ename": "ValueError",
     "evalue": "operands could not be broadcast together with shapes (1000,) (10000,) ",
     "output_type": "error",
     "traceback": [
      "\u001b[0;31m---------------------------------------------------------------------------\u001b[0m",
      "\u001b[0;31mValueError\u001b[0m                                Traceback (most recent call last)",
      "\u001b[0;32m<ipython-input-9-11125dfb0e80>\u001b[0m in \u001b[0;36m<module>\u001b[0;34m\u001b[0m\n\u001b[1;32m     11\u001b[0m \u001b[0mX\u001b[0m \u001b[0;34m=\u001b[0m \u001b[0mnp\u001b[0m\u001b[0;34m.\u001b[0m\u001b[0mrandom\u001b[0m\u001b[0;34m.\u001b[0m\u001b[0muniform\u001b[0m\u001b[0;34m(\u001b[0m\u001b[0;34m-\u001b[0m\u001b[0;36m2\u001b[0m\u001b[0;34m,\u001b[0m\u001b[0;36m2\u001b[0m\u001b[0;34m,\u001b[0m\u001b[0mn\u001b[0m\u001b[0;34m)\u001b[0m\u001b[0;34m\u001b[0m\u001b[0;34m\u001b[0m\u001b[0m\n\u001b[1;32m     12\u001b[0m \u001b[0mX\u001b[0m\u001b[0;34m.\u001b[0m\u001b[0msort\u001b[0m\u001b[0;34m(\u001b[0m\u001b[0;34m)\u001b[0m\u001b[0;34m\u001b[0m\u001b[0;34m\u001b[0m\u001b[0m\n\u001b[0;32m---> 13\u001b[0;31m \u001b[0my\u001b[0m \u001b[0;34m=\u001b[0m \u001b[0mfan\u001b[0m\u001b[0;34m(\u001b[0m\u001b[0mX\u001b[0m\u001b[0;34m,\u001b[0m\u001b[0mn\u001b[0m\u001b[0;34m,\u001b[0m\u001b[0ma\u001b[0m\u001b[0;34m,\u001b[0m\u001b[0meps\u001b[0m\u001b[0;34m)\u001b[0m\u001b[0;34m\u001b[0m\u001b[0;34m\u001b[0m\u001b[0m\n\u001b[0m\u001b[1;32m     14\u001b[0m \u001b[0;34m\u001b[0m\u001b[0m\n\u001b[1;32m     15\u001b[0m \u001b[0momega\u001b[0m \u001b[0;34m=\u001b[0m \u001b[0mbernoulli\u001b[0m\u001b[0;34m.\u001b[0m\u001b[0mrvs\u001b[0m\u001b[0;34m(\u001b[0m\u001b[0mpi\u001b[0m\u001b[0;34m(\u001b[0m\u001b[0my\u001b[0m\u001b[0;34m,\u001b[0m\u001b[0;36m1\u001b[0m\u001b[0;34m,\u001b[0m\u001b[0;36m1\u001b[0m\u001b[0;34m)\u001b[0m\u001b[0;34m,\u001b[0m \u001b[0msize\u001b[0m\u001b[0;34m=\u001b[0m\u001b[0mn\u001b[0m\u001b[0;34m)\u001b[0m\u001b[0;34m\u001b[0m\u001b[0;34m\u001b[0m\u001b[0m\n",
      "\u001b[0;32m~/np_var_mis/functions.py\u001b[0m in \u001b[0;36mfan\u001b[0;34m(X, n, a, eps)\u001b[0m\n\u001b[1;32m     29\u001b[0m \u001b[0;34m\u001b[0m\u001b[0m\n\u001b[1;32m     30\u001b[0m \u001b[0;32mdef\u001b[0m \u001b[0mfan\u001b[0m\u001b[0;34m(\u001b[0m\u001b[0mX\u001b[0m\u001b[0;34m,\u001b[0m\u001b[0mn\u001b[0m\u001b[0;34m,\u001b[0m\u001b[0ma\u001b[0m\u001b[0;34m,\u001b[0m\u001b[0meps\u001b[0m\u001b[0;34m)\u001b[0m\u001b[0;34m:\u001b[0m\u001b[0;34m\u001b[0m\u001b[0;34m\u001b[0m\u001b[0m\n\u001b[0;32m---> 31\u001b[0;31m     \u001b[0;32mreturn\u001b[0m \u001b[0ma\u001b[0m\u001b[0;34m*\u001b[0m\u001b[0;34m(\u001b[0m\u001b[0mX\u001b[0m\u001b[0;34m+\u001b[0m\u001b[0;36m2\u001b[0m\u001b[0;34m*\u001b[0m\u001b[0mnp\u001b[0m\u001b[0;34m.\u001b[0m\u001b[0mexp\u001b[0m\u001b[0;34m(\u001b[0m\u001b[0;34m-\u001b[0m\u001b[0;36m16\u001b[0m\u001b[0;34m*\u001b[0m \u001b[0;34m(\u001b[0m\u001b[0mX\u001b[0m\u001b[0;34m**\u001b[0m\u001b[0;36m2\u001b[0m\u001b[0;34m)\u001b[0m\u001b[0;34m)\u001b[0m\u001b[0;34m)\u001b[0m \u001b[0;34m+\u001b[0m \u001b[0msigma\u001b[0m\u001b[0;34m(\u001b[0m\u001b[0mX\u001b[0m\u001b[0;34m)\u001b[0m\u001b[0;34m*\u001b[0m\u001b[0meps\u001b[0m\u001b[0;34m\u001b[0m\u001b[0;34m\u001b[0m\u001b[0m\n\u001b[0m\u001b[1;32m     32\u001b[0m \u001b[0;34m\u001b[0m\u001b[0m\n\u001b[1;32m     33\u001b[0m \u001b[0;34m\u001b[0m\u001b[0m\n",
      "\u001b[0;31mValueError\u001b[0m: operands could not be broadcast together with shapes (1000,) (10000,) "
     ]
    }
   ],
   "source": [
    "#Setting \n",
    "#Hyperparameter set-up\n",
    "n = 1000\n",
    "h=0.2\n",
    "a=0.5\n",
    "\n",
    "b0 = 0\n",
    "b1 = 1\n",
    "\n",
    "#Data generation \n",
    "X = np.random.uniform(-2,2,n)\n",
    "X.sort()\n",
    "y = fan(X,n,a,eps)\n",
    "\n",
    "omega = bernoulli.rvs(pi(y,1,1), size=n)\n",
    "\n",
    "pi_hat = [pi_hat(h,z,y,pi(y,1,1),omega) for z in np.linspace(-1, 1, n)]\n"
   ]
  },
  {
   "cell_type": "markdown",
   "metadata": {},
   "source": [
    "We want to estimate\n",
    "\n",
    "\\begin{equation}\n",
    "\\sigma_{n}^{2} \\left(x\\right) = \\frac{\n",
    "\\sum_{i=1}^{n} \\widehat{r} \\left(X_{i}\\right) K \\left(\n",
    "    \\frac{x-X_{i} }{h}\n",
    "    \\right)\n",
    "}{\\sum_{i=1}^{n} K \\left(\n",
    "    \\frac{x-X_{i} }{h}\n",
    "    \\right)},\n",
    "\\end{equation}\n",
    "\n",
    "where $\\widehat{r} \\left(X_{i}\\right) = \\left\\{Y_{i}-m_n \\left(X_{i} \\right)\\right\\}^{2}$.\n",
    "\n"
   ]
  },
  {
   "cell_type": "code",
   "execution_count": 7,
   "metadata": {},
   "outputs": [
    {
     "ename": "NameError",
     "evalue": "name 'h' is not defined",
     "output_type": "error",
     "traceback": [
      "\u001b[0;31m---------------------------------------------------------------------------\u001b[0m",
      "\u001b[0;31mNameError\u001b[0m                                 Traceback (most recent call last)",
      "\u001b[0;32m<ipython-input-7-636635fa3388>\u001b[0m in \u001b[0;36m<module>\u001b[0;34m\u001b[0m\n\u001b[1;32m      1\u001b[0m \u001b[0;31m#Estimated regression functions\u001b[0m\u001b[0;34m\u001b[0m\u001b[0;34m\u001b[0m\u001b[0;34m\u001b[0m\u001b[0m\n\u001b[1;32m      2\u001b[0m \u001b[0;34m\u001b[0m\u001b[0m\n\u001b[0;32m----> 3\u001b[0;31m \u001b[0mm_hat_nw\u001b[0m \u001b[0;34m=\u001b[0m \u001b[0;34m[\u001b[0m\u001b[0mnw\u001b[0m\u001b[0;34m(\u001b[0m\u001b[0mh\u001b[0m\u001b[0;34m,\u001b[0m\u001b[0mt\u001b[0m\u001b[0;34m,\u001b[0m\u001b[0mX\u001b[0m\u001b[0;34m,\u001b[0m\u001b[0my\u001b[0m\u001b[0;34m)\u001b[0m \u001b[0;32mfor\u001b[0m \u001b[0mt\u001b[0m \u001b[0;32min\u001b[0m \u001b[0mX\u001b[0m \u001b[0;34m]\u001b[0m\u001b[0;34m\u001b[0m\u001b[0;34m\u001b[0m\u001b[0m\n\u001b[0m\u001b[1;32m      4\u001b[0m \u001b[0;34m\u001b[0m\u001b[0m\n\u001b[1;32m      5\u001b[0m \u001b[0mm_hat_hw\u001b[0m \u001b[0;34m=\u001b[0m \u001b[0;34m[\u001b[0m\u001b[0mnw_mis\u001b[0m\u001b[0;34m(\u001b[0m\u001b[0mh\u001b[0m\u001b[0;34m,\u001b[0m\u001b[0mt\u001b[0m\u001b[0;34m,\u001b[0m\u001b[0mX\u001b[0m\u001b[0;34m,\u001b[0m\u001b[0my\u001b[0m\u001b[0;34m,\u001b[0m\u001b[0mpi\u001b[0m\u001b[0;34m(\u001b[0m\u001b[0my\u001b[0m\u001b[0;34m,\u001b[0m\u001b[0;36m1\u001b[0m\u001b[0;34m,\u001b[0m\u001b[0;36m1\u001b[0m\u001b[0;34m)\u001b[0m\u001b[0;34m,\u001b[0m\u001b[0momega\u001b[0m\u001b[0;34m)\u001b[0m \u001b[0;32mfor\u001b[0m \u001b[0mt\u001b[0m \u001b[0;32min\u001b[0m \u001b[0mX\u001b[0m \u001b[0;34m]\u001b[0m\u001b[0;34m\u001b[0m\u001b[0;34m\u001b[0m\u001b[0m\n",
      "\u001b[0;32m<ipython-input-7-636635fa3388>\u001b[0m in \u001b[0;36m<listcomp>\u001b[0;34m(.0)\u001b[0m\n\u001b[1;32m      1\u001b[0m \u001b[0;31m#Estimated regression functions\u001b[0m\u001b[0;34m\u001b[0m\u001b[0;34m\u001b[0m\u001b[0;34m\u001b[0m\u001b[0m\n\u001b[1;32m      2\u001b[0m \u001b[0;34m\u001b[0m\u001b[0m\n\u001b[0;32m----> 3\u001b[0;31m \u001b[0mm_hat_nw\u001b[0m \u001b[0;34m=\u001b[0m \u001b[0;34m[\u001b[0m\u001b[0mnw\u001b[0m\u001b[0;34m(\u001b[0m\u001b[0mh\u001b[0m\u001b[0;34m,\u001b[0m\u001b[0mt\u001b[0m\u001b[0;34m,\u001b[0m\u001b[0mX\u001b[0m\u001b[0;34m,\u001b[0m\u001b[0my\u001b[0m\u001b[0;34m)\u001b[0m \u001b[0;32mfor\u001b[0m \u001b[0mt\u001b[0m \u001b[0;32min\u001b[0m \u001b[0mX\u001b[0m \u001b[0;34m]\u001b[0m\u001b[0;34m\u001b[0m\u001b[0;34m\u001b[0m\u001b[0m\n\u001b[0m\u001b[1;32m      4\u001b[0m \u001b[0;34m\u001b[0m\u001b[0m\n\u001b[1;32m      5\u001b[0m \u001b[0mm_hat_hw\u001b[0m \u001b[0;34m=\u001b[0m \u001b[0;34m[\u001b[0m\u001b[0mnw_mis\u001b[0m\u001b[0;34m(\u001b[0m\u001b[0mh\u001b[0m\u001b[0;34m,\u001b[0m\u001b[0mt\u001b[0m\u001b[0;34m,\u001b[0m\u001b[0mX\u001b[0m\u001b[0;34m,\u001b[0m\u001b[0my\u001b[0m\u001b[0;34m,\u001b[0m\u001b[0mpi\u001b[0m\u001b[0;34m(\u001b[0m\u001b[0my\u001b[0m\u001b[0;34m,\u001b[0m\u001b[0;36m1\u001b[0m\u001b[0;34m,\u001b[0m\u001b[0;36m1\u001b[0m\u001b[0;34m)\u001b[0m\u001b[0;34m,\u001b[0m\u001b[0momega\u001b[0m\u001b[0;34m)\u001b[0m \u001b[0;32mfor\u001b[0m \u001b[0mt\u001b[0m \u001b[0;32min\u001b[0m \u001b[0mX\u001b[0m \u001b[0;34m]\u001b[0m\u001b[0;34m\u001b[0m\u001b[0;34m\u001b[0m\u001b[0m\n",
      "\u001b[0;31mNameError\u001b[0m: name 'h' is not defined"
     ]
    }
   ],
   "source": [
    "#Estimated regression functions \n",
    "\n",
    "m_hat_nw = [nw(h,t,X,y) for t in X ]\n",
    "\n",
    "m_hat_hw = [nw_mis(h,t,X,y,pi(y,1,1),omega) for t in X ]\n",
    "\n",
    "m_hat_hw_est = [nw_mis(h,t,X,y,pi_hat,omega) for t in X]\n",
    "\n",
    "#Residual estimates \n",
    "\n",
    "r_hat = (y-m_hat_nw)**2\n",
    "\n",
    "r_hat_hw = (y-m_hat_hw)**2\n",
    "\n",
    "r_hat_hw_est = (y-m_hat_hw_est)**2"
   ]
  },
  {
   "cell_type": "code",
   "execution_count": null,
   "metadata": {},
   "outputs": [],
   "source": [
    "#Residual-based estimator "
   ]
  },
  {
   "cell_type": "code",
   "execution_count": null,
   "metadata": {},
   "outputs": [],
   "source": [
    "#H-Sample \n",
    "\n",
    "h1 = 0.2\n",
    "\n",
    "fig, ax = plt.subplots(1, 1)\n",
    "ax.plot(X,sigma_reg(X,n),'o', color='black',markersize=3)\n",
    "ax.plot(np.linspace(-2, 2, n),[sigma_res(h1,t,X,r_hat) for t in np.linspace( -2, 2, n)],color= 'red', lw=3)\n",
    "ax.plot()"
   ]
  },
  {
   "cell_type": "markdown",
   "metadata": {},
   "source": [
    "## The residual-based estimation with missing values\n",
    "\n",
    "Horwitz-Thompson type estimator is\n",
    "\n",
    "\\begin{equation}\n",
    "\\widehat{r}_{n,mis}^{nw} (x)=\\frac{\\sum_{i=1}^n \\frac{\\Omega_i \\widehat{r} \\left(X_{i} \\right)}{\\pi \\left(Y_i\\right)} K\\left(\\frac{x-X_i}{h}\\right)}{\\sum_{i=1}^n \\frac{\\Omega_i}{\\pi \\left(Y_i\\right)} K\\left(\\frac{x-X_i}{h_{r}}\\right)},\n",
    "\\end{equation}\n",
    "\n",
    "where $\\widehat{r}_{n,mis}^{nw} \\left(X_{i} \\right) = \\left\\{ Y_{i} - m_{n,mis}^{nw} \\right\\}^{2}$.\n",
    "\n",
    "In case $\\pi (\\cdot)$ is not known, it is estimated with\n",
    "\n",
    "\\begin{equation}\n",
    "  \\pi_{n} \\left(y\\right) =   \\frac{\n",
    "    \\sum_{k=1}^{n} \\Omega_{k}\n",
    "    K\\left(\\frac{y-Y_{k}}{h}\\right)\n",
    "    }{\n",
    "    \\sum_{j=1}^{n} \n",
    "    K\\left(\\frac{y-Y_{j}}{h}\\right)\n",
    "    }. \n",
    "\\end{equation}"
   ]
  },
  {
   "cell_type": "code",
   "execution_count": null,
   "metadata": {},
   "outputs": [],
   "source": [
    "#Residual-based estimator with missing alues \n",
    "\n",
    "h1 = 0.2\n",
    "\n",
    "fig, ax = plt.subplots(1, 1)\n",
    "ax.plot(X,sigma_reg(X,n),'o', color='black',markersize=1)\n",
    "ax.plot(np.linspace(-2, 2, n),[sigma_mis_res(h1,t,X,r_hat_hw,pi(y,1,1),omega) for t in np.linspace( -2, 2, n)],'-g',color= 'blue', lw=1)\n",
    "ax.plot(np.linspace( -2, 2, n),[sigma_mis_res(h1,t,X,r_hat_hw_est,pi_hat,omega) for t in np.linspace( -2, 2, n)],'-g',color= 'grey', lw=1)\n",
    "ax.plot()"
   ]
  },
  {
   "cell_type": "markdown",
   "metadata": {},
   "source": [
    "## Difference based estimator \n",
    "\n",
    "The difference-based HW-type estimator is \n",
    "\n",
    "\\begin{equation}\n",
    "\\sigma^{2}_{df,mis}(x)=\\frac{1}{2} \\sum_{i=1}^{n-1} \n",
    "\\frac{\\Omega_{i}}{\\pi \\left( Y_{i}\\right)}\n",
    " D_i^2 K_{*}\\left( \\frac{x-X_{i}}{h} \\right),\n",
    "\\end{equation}\n",
    "where $D_{i}^2 = \\left( Y_{i} - Y_{i+1} \\right)^{2}$\n"
   ]
  },
  {
   "cell_type": "code",
   "execution_count": null,
   "metadata": {},
   "outputs": [],
   "source": [
    "h1 = 0.22\n",
    "\n",
    "fig, ax = plt.subplots(1, 1)\n",
    "ax.plot(X,sigma_reg(X,n),'o', color='black',markersize=3)\n",
    "\n",
    "ax.plot(np.linspace(-2, 2, n),[diff_vol(h1,t,X,y) for t in np.linspace(-2, 2, n)],'-g',color= 'red', lw=3)\n",
    "\n",
    "ax.plot(np.linspace(-2, 2, n),[diff_vol_mis(h1,t,X,y,pi(y,1,1),omega) for t in np.linspace(-2, 2, n)],'-g',color= 'grey', lw=3)\n",
    "\n",
    "ax.plot()"
   ]
  },
  {
   "cell_type": "markdown",
   "metadata": {},
   "source": [
    "## Error analysis: MSE analysis"
   ]
  },
  {
   "cell_type": "code",
   "execution_count": null,
   "metadata": {},
   "outputs": [],
   "source": [
    "sigma = [sigma(t) for t in np.linspace( -2, 2, n)]"
   ]
  },
  {
   "cell_type": "code",
   "execution_count": null,
   "metadata": {},
   "outputs": [],
   "source": [
    "\n",
    "\n",
    "sigma_res = [sigma_res(h1,t,X,r_hat) for t in np.linspace( -2, 2, n)]\n",
    "\n",
    "sigma_df = [diff_vol(h1,t,X,y) for t in np.linspace(-2, 2, n)]\n",
    "\n",
    "#With missings \n",
    "\n",
    "sigma_hw = [sigma_mis_res(h1,t,X,r_hat_hw,pi(y,1,1),omega) for t in np.linspace( -2, 2, n)]\n",
    "\n",
    "sigma_hw_est = [sigma_mis_res(h1,t,X,r_hat_hw_est,pi_hat,omega) for t in np.linspace( -2, 2, n)]\n",
    "\n",
    "sigma_df_mis = [diff_vol_mis(h1,t,X,y,pi(y,1,1),omega) for t in np.linspace(-2, 2, n)]\n",
    "\n",
    "sigma_df_mis_est = [diff_vol_mis(h1,t,X,y,pi(y,1,1),omega) for t in np.linspace(-2, 2, n)]\n"
   ]
  },
  {
   "cell_type": "code",
   "execution_count": null,
   "metadata": {},
   "outputs": [],
   "source": [
    "sum([(a-b)**2 for a,b in zip(sigma,sigma_df)])/len(sigma)"
   ]
  },
  {
   "cell_type": "code",
   "execution_count": null,
   "metadata": {},
   "outputs": [],
   "source": []
  }
 ],
 "metadata": {
  "kernelspec": {
   "display_name": "Python 3",
   "language": "python",
   "name": "python3"
  },
  "language_info": {
   "codemirror_mode": {
    "name": "ipython",
    "version": 3
   },
   "file_extension": ".py",
   "mimetype": "text/x-python",
   "name": "python",
   "nbconvert_exporter": "python",
   "pygments_lexer": "ipython3",
   "version": "3.8.5"
  }
 },
 "nbformat": 4,
 "nbformat_minor": 4
}
