{
 "cells": [
  {
   "cell_type": "code",
   "execution_count": 1,
   "metadata": {},
   "outputs": [],
   "source": [
    "import numpy as np\n",
    "import matplotlib.pyplot as plt\n",
    "import pandas as pd\n",
    "from scipy.stats import norm, bernoulli"
   ]
  },
  {
   "cell_type": "markdown",
   "metadata": {},
   "source": [
    "Let $X \\sim U[0,1]$ and \n",
    "\n",
    "\\begin{equation}\n",
    "Y_i=\\sin ^3\\left(2 \\pi X_i^3\\right)+\\sigma \\left(x_{i}\\right)\\varepsilon_i,\n",
    "\\end{equation}\n",
    "\n",
    "where $\\varepsilon \\sim \\mathcal{N} \\left(0,1\\right)$.\n",
    "\n",
    "The variance function is described by\n",
    "\n",
    "\\begin{equation}\n",
    "\\sigma \\left(x \\right) = \\frac{1}{2} \\left(1.5-x \\right)\n",
    "\\end{equation}\n",
    "\n",
    "We estimate the relationship with the Nadaraya-Watson estimator\n",
    "\n",
    "\\begin{equation}\n",
    "m_{n} \\left(x\\right) = \\frac{\n",
    "\\sum_{i=1}^{n} Y_{i} K \\left(\n",
    "    \\frac{x-X_{i} }{h}\n",
    "    \\right)\n",
    "}{\\sum_{i=1}^{n} K \\left(\n",
    "    \\frac{x-X_{i} }{h}\n",
    "    \\right)}.\n",
    "\\end{equation}\n",
    "\n",
    "We assume that the predictor $X$ is missing at random and is observed with the probability of observation\n",
    "\\begin{equation}\n",
    "\\pi \\left(y\\right) = \\frac{1}{1+\\exp^{-\\left(\\beta_{0} +\\beta_{1}Y_{i}\\right)}}\n",
    "\\end{equation}\n",
    "\n",
    "that is modelled with the logit function.\n",
    "\n",
    "The Horwitz-Thompson estimator is \n",
    "\\begin{equation}\n",
    "m_{n} \\left(x\\right) = \\frac{\n",
    "\\sum_{i=1}^{n} \n",
    "\\frac{\\Omega_{i}Y_{i}}{\n",
    "\\pi \\left(Y_{i} \\right)\n",
    "}\n",
    " K \\left(\n",
    "    \\frac{x-X_{i} }{h}\n",
    "    \\right)\n",
    "}{\\sum_{i=1}^{n} \n",
    "\\frac{\\Omega_{i}}{\n",
    "\\pi \\left(Y_{i} \\right)\n",
    "}\n",
    "K \\left(\n",
    "    \\frac{x-X_{i} }{h}\n",
    "    \\right)},\n",
    "\\end{equation}"
   ]
  },
  {
   "cell_type": "code",
   "execution_count": 2,
   "metadata": {},
   "outputs": [],
   "source": [
    "#Setting \n",
    "#Hyperparameter set-up\n",
    "\n",
    "n = 200\n",
    "h=0.05\n",
    "eps = np.random.normal(0, 0.7,  n)\n",
    "\n",
    "#Data generation \n",
    "X = np.random.uniform(0,1,n)\n",
    "X.sort()"
   ]
  },
  {
   "cell_type": "code",
   "execution_count": 11,
   "metadata": {},
   "outputs": [],
   "source": [
    "#functions \n",
    "\n",
    "def sigma(t):\n",
    "    return 0.5*(1.5-t)\n",
    "\n",
    "def mf(X):\n",
    "    return (np.sin(2*np.pi*(X)**3))**3 + sigma(X)*eps \n",
    "\n",
    "def nw(h,x,X,y):\n",
    "    num = sum(y*norm.pdf((x-X)/h))\n",
    "    dem = sum(norm.pdf((x-X)/h))\n",
    "    return num/dem\n",
    "\n",
    "def pi(y,b0,b1):\n",
    "    lin = b0 + b1 *y \n",
    "    return 1/(1+np.exp(-lin))\n",
    "\n",
    "def pi_hat(h,y_i,y):\n",
    "    num = sum(omega*norm.pdf((y_i-Y)/h))\n",
    "    dem = sum(norm.pdf((y_i-Y)/h))\n",
    "    return num/dem\n",
    "\n",
    "def nw_mis(h,x,X,y,p):\n",
    "    y = (y*omega)/p\n",
    "    num = sum(y*norm.pdf((x-X)/h))\n",
    "    dem = sum(omega*norm.pdf((x-X)/h))\n",
    "    return num/dem"
   ]
  },
  {
   "cell_type": "code",
   "execution_count": 15,
   "metadata": {},
   "outputs": [],
   "source": [
    "y = mf(X)\n",
    "\n",
    "#Simulate missing values \n",
    "#MCAR\n",
    "#p=0.8\n",
    "#omega = bernoulli.rvs(p=0.9, size=n)\n",
    "\n",
    "#MAR\n",
    "p = pi(y,1,1)\n",
    "omega = bernoulli.rvs(p, size=n)\n",
    "\n",
    "#y_cc = mf(X*omega)"
   ]
  },
  {
   "cell_type": "code",
   "execution_count": 13,
   "metadata": {},
   "outputs": [
    {
     "data": {
      "text/plain": [
       "[<matplotlib.lines.Line2D at 0x7fdd379e82b0>]"
      ]
     },
     "execution_count": 13,
     "metadata": {},
     "output_type": "execute_result"
    },
    {
     "data": {
      "image/png": "[encoded data removed]",
      "text/plain": [
       "<Figure size 432x288 with 1 Axes>"
      ]
     },
     "metadata": {
      "needs_background": "light"
     },
     "output_type": "display_data"
    }
   ],
   "source": [
    "fig, ax = plt.subplots(1, 1)\n",
    "ax.plot(X, y, 'o', color='grey',markersize=3)\n",
    "#ax.plot(X*omega,y_cc,'o',color='black',markersize=3)\n",
    "ax.plot(np.linspace(0, 1, n),[nw(h,t,X,y) for t in np.linspace(0, 1, n)],color= 'blue', lw=3)\n",
    "#MCAR \n",
    "ax.plot(np.linspace(0, 1, n),[nw_mis(h,t,X,y,p) for t in np.linspace(0, 1, n)],'-g',color= 'red', lw=3)\n"
   ]
  },
  {
   "cell_type": "code",
   "execution_count": 6,
   "metadata": {},
   "outputs": [
    {
     "data": {
      "text/plain": [
       "0.1554195209872652"
      ]
     },
     "execution_count": 6,
     "metadata": {},
     "output_type": "execute_result"
    }
   ],
   "source": [
    "#We need to simulate MAR missing values in the predictor \n",
    "\n",
    "y_hat = [nw_mis(h,t,X,y,p) for t in np.linspace(0, 1, n)]\n",
    "np.mean((y-y_hat)**2)"
   ]
  },
  {
   "cell_type": "code",
   "execution_count": 7,
   "metadata": {},
   "outputs": [
    {
     "data": {
      "text/plain": [
       "0.75"
      ]
     },
     "execution_count": 7,
     "metadata": {},
     "output_type": "execute_result"
    }
   ],
   "source": [
    "omega.sum()/len(y)"
   ]
  },
  {
   "cell_type": "code",
   "execution_count": 8,
   "metadata": {},
   "outputs": [],
   "source": [
    "r =(y-np.sin(2*np.pi*(X)**3)**3)**2\n",
    "\n",
    "def r_hat(x):\n",
    "    return (y-nw(h,x,X,y))**2"
   ]
  },
  {
   "cell_type": "code",
   "execution_count": 10,
   "metadata": {},
   "outputs": [
    {
     "data": {
      "text/plain": [
       "[<matplotlib.lines.Line2D at 0x7fdd378f87c0>]"
      ]
     },
     "execution_count": 10,
     "metadata": {},
     "output_type": "execute_result"
    },
    {
     "data": {
      "image/png": "[encoded data removed]",
      "text/plain": [
       "<Figure size 432x288 with 1 Axes>"
      ]
     },
     "metadata": {
      "needs_background": "light"
     },
     "output_type": "display_data"
    }
   ],
   "source": [
    "fig, ax = plt.subplots(1, 1)\n",
    "ax.plot(X, sigma(X)**2, 'o', color='grey',markersize=3)\n",
    "ax.plot(np.linspace(0, 1, n),[nw(h,t,X,r) for t in np.linspace(0, 1, n)],color= 'blue', lw=3)\n",
    "ax.plot(np.linspace(0, 1, n),[nw(h,t,X,r_hat(t)) for t in np.linspace(0, 1, n)],color= 'red', lw=3)\n"
   ]
  },
  {
   "cell_type": "code",
   "execution_count": null,
   "metadata": {},
   "outputs": [],
   "source": []
  }
 ],
 "metadata": {
  "kernelspec": {
   "display_name": "Python 3",
   "language": "python",
   "name": "python3"
  },
  "language_info": {
   "codemirror_mode": {
    "name": "ipython",
    "version": 3
   },
   "file_extension": ".py",
   "mimetype": "text/x-python",
   "name": "python",
   "nbconvert_exporter": "python",
   "pygments_lexer": "ipython3",
   "version": "3.8.5"
  }
 },
 "nbformat": 4,
 "nbformat_minor": 4
}
