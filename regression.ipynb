{
 "cells": [
  {
   "cell_type": "code",
   "execution_count": 1,
   "metadata": {},
   "outputs": [],
   "source": [
    "import numpy as np\n",
    "import matplotlib.pyplot as plt\n",
    "import pandas as pd\n",
    "from scipy.stats import norm, bernoulli"
   ]
  },
  {
   "cell_type": "markdown",
   "metadata": {},
   "source": [
    "Let $X \\sim U[0,1]$ and \n",
    "\n",
    "\\begin{equation}\n",
    "Y_i=\\sin ^3\\left(2 \\pi X_i^3\\right)+\\sigma \\left(x_{i}\\right)\\varepsilon_i,\n",
    "\\end{equation}\n",
    "\n",
    "where $\\varepsilon \\sim \\mathcal{N} \\left(0,1\\right)$.\n",
    "\n",
    "The variance function is described by\n",
    "\n",
    "\\begin{equation}\n",
    "\\sigma \\left(x \\right) = \\frac{1}{2} \\left(1.5-x \\right)\n",
    "\\end{equation}\n",
    "\n",
    "We estimate the relationship with the Nadaraya-Watson estimator\n",
    "\n",
    "\\begin{equation}\n",
    "m_{n} \\left(x\\right) = \\frac{\n",
    "\\sum_{i=1}^{n} Y_{i} K \\left(\n",
    "    \\frac{x-X_{i} }{h}\n",
    "    \\right)\n",
    "}{\\sum_{i=1}^{n} K \\left(\n",
    "    \\frac{x-X_{i} }{h}\n",
    "    \\right)}.\n",
    "\\end{equation}\n",
    "\n",
    "We assume that the predictor $X$ is missing at random and is observed with the probability of observation\n",
    "\\begin{equation}\n",
    "\\pi \\left(y\\right) = \\frac{1}{1+\\exp^{-\\left(\\beta_{0} +\\beta_{1}Y_{i}\\right)}}\n",
    "\\end{equation}\n",
    "\n",
    "that is modelled with the logit function.\n",
    "\n",
    "The Horwitz-Thompson estimator is \n",
    "\\begin{equation}\n",
    "m_{n} \\left(x\\right) = \\frac{\n",
    "\\sum_{i=1}^{n} \n",
    "\\frac{\\Omega_{i}Y_{i}}{\n",
    "\\pi \\left(Y_{i} \\right)\n",
    "}\n",
    " K \\left(\n",
    "    \\frac{x-X_{i} }{h}\n",
    "    \\right)\n",
    "}{\\sum_{i=1}^{n} \n",
    "\\frac{\\Omega_{i}}{\n",
    "\\pi \\left(Y_{i} \\right)\n",
    "}\n",
    "K \\left(\n",
    "    \\frac{x-X_{i} }{h}\n",
    "    \\right)},\n",
    "\\end{equation}"
   ]
  },
  {
   "cell_type": "code",
   "execution_count": 2,
   "metadata": {},
   "outputs": [],
   "source": [
    "#Setting \n",
    "#Hyperparameter set-up\n",
    "\n",
    "n = 10000\n",
    "h=0.01\n",
    "eps = np.random.normal(0, 0.7,  n)\n",
    "\n",
    "#Data generation \n",
    "X = np.random.uniform(0,1,n)\n",
    "X.sort()"
   ]
  },
  {
   "cell_type": "code",
   "execution_count": 3,
   "metadata": {},
   "outputs": [],
   "source": [
    "#functions \n",
    "\n",
    "def sigma(t):\n",
    "    return 0.5*(1.5-t)\n",
    "\n",
    "def mf(X):\n",
    "    return (np.sin(2*np.pi*(X)**3))**3 + sigma(X)*eps \n",
    "\n",
    "def nw(h,x,X,y):\n",
    "    num = sum(y*norm.pdf((x-X)/h))\n",
    "    dem = sum(norm.pdf((x-X)/h))\n",
    "    return num/dem\n",
    "\n",
    "def pi(y,b0,b1):\n",
    "    lin = b0 + b1 *y \n",
    "    return 1/(1+np.exp(-lin))\n",
    "\n",
    "def pi_hat(h,y_i,Y,p):\n",
    "    omega = bernoulli.rvs(p, size=n)\n",
    "    num = sum(omega*norm.pdf((y_i-Y)/h))\n",
    "    dem = sum(norm.pdf((y_i-Y)/h))\n",
    "    return num/dem\n",
    "\n",
    "def nw_mis(h,x,X,y,p):\n",
    "    omega = bernoulli.rvs(p, size=n)\n",
    "    y = (y*omega)/p\n",
    "    num = sum(y*norm.pdf((x-X)/h))\n",
    "    dem = sum(omega*norm.pdf((x-X)/h))\n",
    "    return num/dem"
   ]
  },
  {
   "cell_type": "code",
   "execution_count": 4,
   "metadata": {},
   "outputs": [],
   "source": [
    "y = mf(X)\n",
    "\n",
    "#Simulate missing values \n",
    "#MCAR\n",
    "#p=0.8\n",
    "#omega = bernoulli.rvs(p=0.9, size=n)\n",
    "\n",
    "pi_hat = [pi_hat(h,z,y,pi(y,1,1)) for z in np.linspace(-1.5, 2, n)]\n",
    "#omega = bernoulli.rvs(pi_hat, size=n)\n",
    "\n",
    "#y_cc = mf(X*omega)"
   ]
  },
  {
   "cell_type": "code",
   "execution_count": 5,
   "metadata": {},
   "outputs": [
    {
     "data": {
      "text/plain": [
       "[<matplotlib.lines.Line2D at 0x7fb808db4970>]"
      ]
     },
     "execution_count": 5,
     "metadata": {},
     "output_type": "execute_result"
    },
    {
     "data": {
      "image/png": "[encoded data removed]",
      "text/plain": [
       "<Figure size 432x288 with 1 Axes>"
      ]
     },
     "metadata": {
      "needs_background": "light"
     },
     "output_type": "display_data"
    }
   ],
   "source": [
    "fig, ax = plt.subplots(1, 1)\n",
    "ax.plot(X, y, 'o', color='grey',markersize=3)\n",
    "#ax.plot(X*omega,y_cc,'o',color='black',markersize=3)\n",
    "ax.plot(np.linspace(0, 1, n),[nw(h,t,X,y) for t in np.linspace(0, 1, n)],color= 'blue', lw=3)\n",
    "#MAR \n",
    "ax.plot(np.linspace(0, 1, n),[nw_mis(h,t,X,y,pi(y,1,1)) for t in np.linspace(0, 1, n)],'-g',color= 'red', lw=3)\n",
    "#MAR estimated\n",
    "ax.plot(np.linspace(0, 1, n),[nw_mis(h,t,X,y,pi_hat) for t in np.linspace(0, 1, n)],'-g',color= 'green', lw=3)\n"
   ]
  },
  {
   "cell_type": "code",
   "execution_count": null,
   "metadata": {},
   "outputs": [],
   "source": [
    "#We need to simulate MAR missing values in the predictor \n",
    "p = pi(y,b0=1,b1=1)\n",
    "omega = bernoulli.rvs(p, size=n)\n",
    "y_hat = [nw_mis(h,t,X,y,p) for t in np.linspace(0, 1, n)]\n",
    "np.mean((y-y_hat)**2)"
   ]
  },
  {
   "cell_type": "code",
   "execution_count": 8,
   "metadata": {},
   "outputs": [
    {
     "ename": "NameError",
     "evalue": "name 'omega' is not defined",
     "output_type": "error",
     "traceback": [
      "\u001b[0;31m---------------------------------------------------------------------------\u001b[0m",
      "\u001b[0;31mNameError\u001b[0m                                 Traceback (most recent call last)",
      "\u001b[0;32m<ipython-input-8-eeb844f70fab>\u001b[0m in \u001b[0;36m<module>\u001b[0;34m\u001b[0m\n\u001b[0;32m----> 1\u001b[0;31m \u001b[0momega\u001b[0m\u001b[0;34m.\u001b[0m\u001b[0msum\u001b[0m\u001b[0;34m(\u001b[0m\u001b[0;34m)\u001b[0m\u001b[0;34m/\u001b[0m\u001b[0mlen\u001b[0m\u001b[0;34m(\u001b[0m\u001b[0my\u001b[0m\u001b[0;34m)\u001b[0m\u001b[0;34m\u001b[0m\u001b[0;34m\u001b[0m\u001b[0m\n\u001b[0m",
      "\u001b[0;31mNameError\u001b[0m: name 'omega' is not defined"
     ]
    }
   ],
   "source": [
    "omega.sum()/len(y)"
   ]
  },
  {
   "cell_type": "code",
   "execution_count": null,
   "metadata": {},
   "outputs": [],
   "source": [
    "r =(y-np.sin(2*np.pi*(X)**3)**3)**2\n",
    "\n",
    "def r_hat(x):\n",
    "    return (y-nw(h,x,X,y))**2"
   ]
  },
  {
   "cell_type": "code",
   "execution_count": null,
   "metadata": {},
   "outputs": [],
   "source": [
    "fig, ax = plt.subplots(1, 1)\n",
    "ax.plot(X, (sigma(X)**2)*eps**2 , 'o', color='grey',markersize=3)\n",
    "ax.plot(np.linspace(0, 1, n),[nw(h,t,X,r) for t in np.linspace(0, 1, n)],color= 'blue', lw=3)\n",
    "ax.plot(np.linspace(0, 1, n),[nw(h,t,X,r_hat(t)) for t in np.linspace(0, 1, n)],color= 'red', lw=3)\n",
    "#ax.plot(np.linspace(0, 1, n),[nw_mis(h,t,X,r_hat(t),pi_hat) for t in np.linspace(0, 1, n)],'-g',color= 'green', lw=3)\n"
   ]
  },
  {
   "cell_type": "code",
   "execution_count": null,
   "metadata": {},
   "outputs": [],
   "source": []
  }
 ],
 "metadata": {
  "kernelspec": {
   "display_name": "Python 3",
   "language": "python",
   "name": "python3"
  },
  "language_info": {
   "codemirror_mode": {
    "name": "ipython",
    "version": 3
   },
   "file_extension": ".py",
   "mimetype": "text/x-python",
   "name": "python",
   "nbconvert_exporter": "python",
   "pygments_lexer": "ipython3",
   "version": "3.8.5"
  }
 },
 "nbformat": 4,
 "nbformat_minor": 4
}
