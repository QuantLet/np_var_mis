{
 "cells": [
  {
   "cell_type": "code",
   "execution_count": 13,
   "metadata": {},
   "outputs": [],
   "source": [
    "import matplotlib.pyplot as plt\n",
    "import pandas as pd\n",
    "\n",
    "from functions import *"
   ]
  },
  {
   "cell_type": "markdown",
   "metadata": {},
   "source": [
    "Let $X \\sim U[-2,2]$ and \n",
    "\n",
    "\\begin{equation}\n",
    "Y_i=a\\left\\{X_i+2 \\exp \\left(-16 X_i^2\\right)\\right\\}+\\sigma\\left(X_i\\right) \\varepsilon_i\n",
    "\\end{equation}\n",
    "\n",
    "where $\\varepsilon \\sim \\mathcal{N} \\left(0,1\\right)$.\n",
    "\n",
    "The variance function is described by\n",
    "\n",
    "\\begin{equation}\n",
    "\\sigma \\left(x \\right) = 0.4 \\exp \\left(-2 x^2\\right)+0 \\cdot 2\n",
    "\\end{equation}\n",
    "\n",
    "\n",
    "\n",
    "We estimate the relationship with the Nadaraya-Watson estimator\n",
    "\n",
    "\\begin{equation}\n",
    "m_{n} \\left(x\\right) = \\frac{\n",
    "\\sum_{i=1}^{n} Y_{i} K \\left(\n",
    "    \\frac{x-X_{i} }{h}\n",
    "    \\right)\n",
    "}{\\sum_{i=1}^{n} K \\left(\n",
    "    \\frac{x-X_{i} }{h}\n",
    "    \\right)}.\n",
    "\\end{equation}\n",
    "\n",
    "We assume that the predictor $X$ is missing at random and is observed with the probability of observation\n",
    "\\begin{equation}\n",
    "\\pi \\left(Y_i\\right) = \\frac{1}{1+\\exp^{-\\left(\\beta_{0} +\\beta_{1}Y_{i}\\right)}}\n",
    "\\end{equation}\n",
    "\n",
    "that is modelled with the logit function.\n",
    "\n",
    "If $\\pi \\left(y \\right)$ is known, the Horwitz-Thompson estimator is \n",
    "\\begin{equation}\n",
    "m_{n} \\left(x\\right) = \\frac{\n",
    "\\sum_{i=1}^{n} \n",
    "\\frac{\\Omega_{i}Y_{i}}{\n",
    "\\pi \\left(Y_{i} \\right)\n",
    "}\n",
    " K \\left(\n",
    "    \\frac{x-X_{i} }{h}\n",
    "    \\right)\n",
    "}{\\sum_{i=1}^{n} \n",
    "\\frac{\\Omega_{i}}{\n",
    "\\pi \\left(Y_{i} \\right)\n",
    "}\n",
    "K \\left(\n",
    "    \\frac{x-X_{i} }{h}\n",
    "    \\right)},\n",
    "\\end{equation}\n",
    "\n",
    "If  $\\pi \\left(y \\right)$ is unknown, we estimate it with "
   ]
  },
  {
   "cell_type": "code",
   "execution_count": 2,
   "metadata": {},
   "outputs": [],
   "source": [
    "#Setting \n",
    "#Hyperparameter set-up\n",
    "\n",
    "n = 1000\n",
    "h=0.2\n",
    "a=0.5\n",
    "\n",
    "b0 = -1\n",
    "b1 = -1\n",
    "\n",
    "#Data generation \n",
    "X = np.random.uniform(-2,2,n)\n",
    "X.sort()\n",
    "\n",
    "eps = eps(0, 1,  n)\n",
    "\n",
    "y = fan(X,n,a,eps)\n",
    "\n",
    "omega = bernoulli.rvs(pi(y,b0,b1), size=n)\n",
    "\n",
    "pi_hat = [pi_hat(h,z,y,pi(y,b0,b1),omega) for z in np.linspace(-1, 1, n)]\n"
   ]
  },
  {
   "cell_type": "code",
   "execution_count": 3,
   "metadata": {},
   "outputs": [
    {
     "data": {
      "text/plain": [
       "0.263"
      ]
     },
     "execution_count": 3,
     "metadata": {},
     "output_type": "execute_result"
    }
   ],
   "source": [
    "sum(omega)/n"
   ]
  },
  {
   "cell_type": "code",
   "execution_count": 4,
   "metadata": {},
   "outputs": [
    {
     "data": {
      "text/plain": [
       "(-1.5, 1.5)"
      ]
     },
     "execution_count": 4,
     "metadata": {},
     "output_type": "execute_result"
    },
    {
     "data": {
      "image/png": "[encoded data removed]",
      "text/plain": [
       "<Figure size 432x288 with 1 Axes>"
      ]
     },
     "metadata": {
      "needs_background": "light"
     },
     "output_type": "display_data"
    }
   ],
   "source": [
    "fig, ax = plt.subplots(1, 1)\n",
    "ax.plot(X, y, 'o', color='grey',markersize=2)\n",
    "#NW\n",
    "ax.plot(np.linspace(-2, 2, n),[nw(h,t,X,y) for t in np.linspace(-2, 2, n)],color= 'black', lw=2)\n",
    "\n",
    "#HT NW\n",
    "ax.plot(np.linspace(-2, 2, n),[nw_mis(h,t,X,y,pi(y,b0,b1),omega) for t in np.linspace(-2, 2, n)],'-g',color= 'blue', lw=2)\n",
    "#\n",
    "ax.plot(np.linspace(-2, 2, n),[nw_mis(h,t,X,y,pi_hat,omega) for t in np.linspace(-2, 2, n)],'-g',color= 'red', lw=2)\n",
    "ax.set_ylim(-1.5,1.5)"
   ]
  },
  {
   "cell_type": "code",
   "execution_count": 5,
   "metadata": {},
   "outputs": [
    {
     "data": {
      "text/plain": [
       "0.7401226201208508"
      ]
     },
     "execution_count": 5,
     "metadata": {},
     "output_type": "execute_result"
    }
   ],
   "source": [
    "#We need to simulate MAR missing values in the predictor \n",
    "h= 0.25\n",
    "\n",
    "p = pi(y,b0,b1)\n",
    "omega = bernoulli.rvs(p, size=n)\n",
    "\n",
    "y_hat = [nw_mis(h,t,X,y,p,omega) for t in np.linspace(0, 1, n)]\n",
    "np.mean((y-y_hat)**2)\n"
   ]
  },
  {
   "cell_type": "code",
   "execution_count": null,
   "metadata": {},
   "outputs": [],
   "source": [
    "## The MSE plots do not seem correct "
   ]
  },
  {
   "cell_type": "code",
   "execution_count": 14,
   "metadata": {},
   "outputs": [],
   "source": [
    "gen = []\n",
    "\n",
    "#Bias \n",
    "monte = 10 \n",
    "for m in range(monte):\n",
    "    X = np.random.uniform(-2,2,n)\n",
    "    X.sort()\n",
    "    eps1 = eps(0, 1,  n)\n",
    "    y = fan(X,n,a,eps1)\n",
    "    gen.append(nw_mis(h,X,X,y,pi(y,b0,b1),omega))\n",
    "    "
   ]
  },
  {
   "cell_type": "code",
   "execution_count": 22,
   "metadata": {},
   "outputs": [
    {
     "data": {
      "text/plain": [
       "0.4914678108543262"
      ]
     },
     "execution_count": 22,
     "metadata": {},
     "output_type": "execute_result"
    }
   ],
   "source": [
    "np.mean(gen) - fan(np.random.uniform(-2,2),1,a,0)"
   ]
  },
  {
   "cell_type": "code",
   "execution_count": 6,
   "metadata": {},
   "outputs": [],
   "source": [
    "#MSE plots \n",
    "mse_nw = []\n",
    "mse_hw = []\n",
    "mse_hw_est = []\n",
    "mse_cc = []\n",
    "\n",
    "#NW\n",
    "y_hat_nw = [(fan(t,1,a,eps)- nw(h,t,X,y))**2 for t in np.linspace(0, 1, n)]\n",
    "mse_nw.append(np.mean((y-y_hat_nw)**2))\n",
    "\n",
    "#CC\n",
    "#y_hat_cc = [nw_cc(h,t,X,y,pi(y,b0,b1),n) for t in np.linspace(0, 1, n)]\n",
    "#mse_cc.append(np.mean((y-y_hat_cc)**2))\n",
    "\n",
    "#HW\n",
    "y_hat_hw = [(fan(X,n,a,eps)-nw_mis(h,t,X,y,pi(y,b0,b1),omega))**2 for t in np.linspace(0, 1, n)]\n",
    "mse_hw.append(np.mean((y-y_hat_hw)**2))\n",
    "\n",
    "# MAR estimated\n",
    "y_hat_hw_est = [(fan(X,n,a,eps)-nw_mis(h,t,X,y,pi_hat,omega))**2  for t in np.linspace(0, 1, n)]\n",
    "mse_hw_est.append(np.mean((y-y_hat_hw_est)**2))\n",
    "\n",
    "\n"
   ]
  },
  {
   "cell_type": "code",
   "execution_count": 7,
   "metadata": {},
   "outputs": [
    {
     "data": {
      "image/png": "[encoded data removed]",
      "text/plain": [
       "<Figure size 432x288 with 1 Axes>"
      ]
     },
     "metadata": {
      "needs_background": "light"
     },
     "output_type": "display_data"
    }
   ],
   "source": [
    "fig, ax = plt.subplots(1, 1)\n",
    "\n",
    "h = 0.25\n",
    "\n",
    "#NW\n",
    "ax.plot(np.linspace(-2, 2, n), [(fan(t,n,a,eps)-sigma(t)*eps - nw(h,t,X,y))**2 for t in np.linspace(-2, 2, n)] ,color= 'black')\n",
    "\n",
    "#HT NW\n",
    "ax.plot(np.linspace(-2, 2, n), [(fan(t,n,a,eps)-sigma(t)*eps -nw_mis(h,t,X,y,pi(y,b0,b1),omega))**2 for t in np.linspace(-2, 2, n)], color='blue')\n",
    "        \n",
    "#HW EST \n",
    "ax.plot(np.linspace(-2, 2, n), [(fan(t,n,a,eps)-sigma(t)*eps -nw_mis(h,t,X,y,pi_hat,omega))**2 for t in np.linspace(-2, 2, n)] , color='red')\n",
    "        \n",
    "plt.show()        \n",
    "#\n",
    "#ax.plot(np.linspace(-2, 2, n),(y - y_hat_hw_est)**2,'-g',color= 'red', lw=2)\n",
    "#ax.set_ylim(-1.5,1.5)"
   ]
  },
  {
   "cell_type": "code",
   "execution_count": null,
   "metadata": {},
   "outputs": [],
   "source": []
  },
  {
   "cell_type": "code",
   "execution_count": null,
   "metadata": {},
   "outputs": [],
   "source": []
  }
 ],
 "metadata": {
  "kernelspec": {
   "display_name": "Python 3",
   "language": "python",
   "name": "python3"
  },
  "language_info": {
   "codemirror_mode": {
    "name": "ipython",
    "version": 3
   },
   "file_extension": ".py",
   "mimetype": "text/x-python",
   "name": "python",
   "nbconvert_exporter": "python",
   "pygments_lexer": "ipython3",
   "version": "3.8.5"
  }
 },
 "nbformat": 4,
 "nbformat_minor": 4
}
