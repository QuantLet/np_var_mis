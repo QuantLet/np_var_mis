{
 "cells": [
  {
   "cell_type": "code",
   "execution_count": 1,
   "metadata": {},
   "outputs": [],
   "source": [
    "import matplotlib.pyplot as plt\n",
    "import pandas as pd\n",
    "\n",
    "from functions import *"
   ]
  },
  {
   "cell_type": "markdown",
   "metadata": {},
   "source": [
    "Let $X \\sim U[0,1]$ and \n",
    "\n",
    "\\begin{equation}\n",
    "Y_i=\\sin ^3\\left(2 \\pi X_i^3\\right)+\\sigma \\left(x_{i}\\right)\\varepsilon_i,\n",
    "\\end{equation}\n",
    "\n",
    "where $\\varepsilon \\sim \\mathcal{N} \\left(0,1\\right)$.\n",
    "\n",
    "The variance function is described by\n",
    "\n",
    "\\begin{equation}\n",
    "\\sigma \\left(x \\right) = \\frac{1}{2} \\left(1.5-x \\right)\n",
    "\\end{equation}\n",
    "\n",
    "or \n",
    "\n",
    "\\begin{equation}\n",
    "\\sigma \\left(x \\right) = e^{0.5x}\n",
    "\\end{equation}\n",
    "\n",
    "We estimate the relationship with the Nadaraya-Watson estimator\n",
    "\n",
    "\\begin{equation}\n",
    "m_{n} \\left(x\\right) = \\frac{\n",
    "\\sum_{i=1}^{n} Y_{i} K \\left(\n",
    "    \\frac{x-X_{i} }{h}\n",
    "    \\right)\n",
    "}{\\sum_{i=1}^{n} K \\left(\n",
    "    \\frac{x-X_{i} }{h}\n",
    "    \\right)}.\n",
    "\\end{equation}\n",
    "\n",
    "We assume that the predictor $X$ is missing at random and is observed with the probability of observation\n",
    "\\begin{equation}\n",
    "\\pi \\left(y\\right) = \\frac{1}{1+\\exp^{-\\left(\\beta_{0} +\\beta_{1}Y_{i}\\right)}}\n",
    "\\end{equation}\n",
    "\n",
    "that is modelled with the logit function.\n",
    "\n",
    "If $\\pi \\left(y \\right)$ is known, the Horwitz-Thompson estimator is \n",
    "\\begin{equation}\n",
    "m_{n} \\left(x\\right) = \\frac{\n",
    "\\sum_{i=1}^{n} \n",
    "\\frac{\\Omega_{i}Y_{i}}{\n",
    "\\pi \\left(Y_{i} \\right)\n",
    "}\n",
    " K \\left(\n",
    "    \\frac{x-X_{i} }{h}\n",
    "    \\right)\n",
    "}{\\sum_{i=1}^{n} \n",
    "\\frac{\\Omega_{i}}{\n",
    "\\pi \\left(Y_{i} \\right)\n",
    "}\n",
    "K \\left(\n",
    "    \\frac{x-X_{i} }{h}\n",
    "    \\right)},\n",
    "\\end{equation}\n",
    "\n",
    "If  $\\pi \\left(y \\right)$ is unknown, we estimate it with "
   ]
  },
  {
   "cell_type": "code",
   "execution_count": 2,
   "metadata": {},
   "outputs": [],
   "source": [
    "#Setting \n",
    "#Hyperparameter set-up\n",
    "\n",
    "n = 10000\n",
    "h=0.1\n",
    "\n",
    "#Data generation \n",
    "X = np.random.uniform(0,1,n)\n",
    "X.sort()\n",
    "\n",
    "y = f(X,n)\n",
    "\n",
    " #MCAR p= 0.8\n",
    "pi_hat = [pi_hat(h,z,y,pi(y,1,1),n) for z in np.linspace(-1.5, 1.5, n)]"
   ]
  },
  {
   "cell_type": "code",
   "execution_count": 3,
   "metadata": {},
   "outputs": [
    {
     "data": {
      "text/plain": [
       "(-1.5, 1.5)"
      ]
     },
     "execution_count": 3,
     "metadata": {},
     "output_type": "execute_result"
    },
    {
     "data": {
      "image/png": "[encoded data removed]",
      "text/plain": [
       "<Figure size 432x288 with 1 Axes>"
      ]
     },
     "metadata": {
      "needs_background": "light"
     },
     "output_type": "display_data"
    }
   ],
   "source": [
    "fig, ax = plt.subplots(1, 1)\n",
    "ax.plot(X, y, 'o', color='grey',markersize=3)\n",
    "#NW\n",
    "ax.plot(np.linspace(0, 1, n),[nw(h,t,X,y) for t in np.linspace(0, 1, n)],color= 'black', lw=3)\n",
    "#HT NW\n",
    "ax.plot(np.linspace(0, 1, n),[nw_mis(h,t,X,y,pi(y,1,1),n) for t in np.linspace(0, 1, n)],'-g',color= 'blue', lw=3)\n",
    "#\n",
    "ax.plot(np.linspace(0, 1, n),[nw_mis(h,t,X,y,pi_hat,n) for t in np.linspace(0, 1, n)],'-g',color= 'red', lw=3)\n",
    "ax.set_ylim(-1.5,1.5)"
   ]
  },
  {
   "cell_type": "code",
   "execution_count": 4,
   "metadata": {},
   "outputs": [
    {
     "data": {
      "text/plain": [
       "0.05143107486470552"
      ]
     },
     "execution_count": 4,
     "metadata": {},
     "output_type": "execute_result"
    }
   ],
   "source": [
    "#We need to simulate MAR missing values in the predictor \n",
    "p = pi(y,b0=1,b1=1)\n",
    "omega = bernoulli.rvs(p, size=n)\n",
    "y_hat = [nw_mis(h,t,X,y,p,n ) for t in np.linspace(0, 1, n)]\n",
    "np.mean((y-y_hat)**2)"
   ]
  },
  {
   "cell_type": "code",
   "execution_count": 5,
   "metadata": {},
   "outputs": [],
   "source": [
    "H = np.linspace(0.1, 0.1, 1)"
   ]
  },
  {
   "cell_type": "code",
   "execution_count": 6,
   "metadata": {},
   "outputs": [
    {
     "data": {
      "text/plain": [
       "array([0.1])"
      ]
     },
     "execution_count": 6,
     "metadata": {},
     "output_type": "execute_result"
    }
   ],
   "source": [
    "H"
   ]
  },
  {
   "cell_type": "code",
   "execution_count": null,
   "metadata": {},
   "outputs": [],
   "source": [
    "mse_nw = []\n",
    "mse_hw = []\n",
    "mse_hw_est = []\n",
    "mse_cc = []\n",
    "\n",
    "sim = 10000\n",
    "\n",
    "for i in range(sim):\n",
    "    X = np.random.uniform(0,1,n)\n",
    "    y = f(X,n)\n",
    "    # H-sample \n",
    "    y_hat_nw = [nw(h,t,X,y) for t in np.linspace(0, 1, n)]\n",
    "    mse_nw.append(np.mean((y-y_hat_nw)**2))\n",
    "    # MAR KNOWN \n",
    "    p = pi(y,b0=1,b1=1)\n",
    "    omega = bernoulli.rvs(p, size=n)\n",
    "     ## CC\n",
    "    y_hat_cc = [nw_cc(h,t,X,y,p,n) for t in np.linspace(0, 1, n)]\n",
    "    mse_cc.append(np.mean((y-y_hat_cc)**2))\n",
    "    ## HW\n",
    "    y_hat_hw = [nw_mis(h,t,X,y,p,n) for t in np.linspace(0, 1, n)]\n",
    "    mse_hw.append(np.mean((y-y_hat_hw)**2))\n",
    "    # MAR estimated\n",
    "    y_hat_hw_est = [nw_mis(h,t,X,y,pi_hat,n) for t in np.linspace(0, 1, n)]\n",
    "    mse_hw_est.append(np.mean((y-y_hat_hw_est)**2))\n",
    "\n",
    "    "
   ]
  },
  {
   "cell_type": "code",
   "execution_count": null,
   "metadata": {},
   "outputs": [],
   "source": [
    "# Pandas dataframe\n",
    "data = pd.DataFrame({'mse_nw': mse_nw, 'mse_cc':mse_cc,'mse_hw': mse_hw,'mse_hw_est': mse_hw_est})\n",
    "\n",
    "# Plot the dataframe\n",
    "ax = data[['mse_nw', 'mse_cc','mse_hw','mse_hw_est']].plot(kind='box', title='boxplot')\n",
    "\n",
    "# Display the plot\n",
    "plt.show()"
   ]
  },
  {
   "cell_type": "code",
   "execution_count": null,
   "metadata": {},
   "outputs": [],
   "source": []
  }
 ],
 "metadata": {
  "kernelspec": {
   "display_name": "Python 3",
   "language": "python",
   "name": "python3"
  },
  "language_info": {
   "codemirror_mode": {
    "name": "ipython",
    "version": 3
   },
   "file_extension": ".py",
   "mimetype": "text/x-python",
   "name": "python",
   "nbconvert_exporter": "python",
   "pygments_lexer": "ipython3",
   "version": "3.8.5"
  }
 },
 "nbformat": 4,
 "nbformat_minor": 4
}
