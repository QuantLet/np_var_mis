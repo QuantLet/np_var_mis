{
 "cells": [
  {
   "cell_type": "markdown",
   "metadata": {},
   "source": [
    "## Residual-based estimation\n",
    "\n",
    "Let $X \\sim U[-2,2]$ and \n",
    "\n",
    "\\begin{equation}\n",
    "Y_i=a\\left\\{X_i+2 \\exp \\left(-16 X_i^2\\right)\\right\\}+\\sigma\\left(X_i\\right) \\varepsilon_i\n",
    "\\end{equation}\n",
    "\n",
    "where $\\varepsilon \\sim \\mathcal{N} \\left(0,\\sigma_{\\varepsilon}^{2}\\right)$.\n",
    "\n",
    "We estimate the regression function \n",
    "\\begin{equation}\n",
    "m \\left(X_{i} \\right) = \\mbox{ E} \\left(Y_{i} \\mid X_{i} \\right)\n",
    "\\end{equation}"
   ]
  },
  {
   "cell_type": "code",
   "execution_count": 1,
   "metadata": {},
   "outputs": [],
   "source": [
    "from functions import *\n",
    "import matplotlib.pyplot as plt"
   ]
  },
  {
   "cell_type": "code",
   "execution_count": 2,
   "metadata": {},
   "outputs": [],
   "source": [
    "#Setting \n",
    "#Hyperparameter set-up\n",
    "n = 1000\n",
    "h=0.1\n",
    "a=0.5\n",
    "\n",
    "#Data generation \n",
    "X = np.random.uniform(-2,2,n)\n",
    "X.sort()\n",
    "y = fan(X,n,a)\n",
    "\n",
    " #MCAR p= 0.8\n",
    "pi_hat = [pi_hat(h,z,y,pi(y,1,1),n) for z in np.linspace(-1,1, n)]"
   ]
  },
  {
   "cell_type": "markdown",
   "metadata": {},
   "source": [
    "We want to estimate\n",
    "\n",
    "\\begin{equation}\n",
    "\\sigma_{n}^{2} \\left(x\\right) = \\frac{\n",
    "\\sum_{i=1}^{n} \\widehat{r} \\left(X_{i}\\right) K \\left(\n",
    "    \\frac{x-X_{i} }{h}\n",
    "    \\right)\n",
    "}{\\sum_{i=1}^{n} K \\left(\n",
    "    \\frac{x-X_{i} }{h}\n",
    "    \\right)},\n",
    "\\end{equation}\n",
    "\n",
    "where $\\widehat{r} \\left(X_{i}\\right) = \\left\\{Y_{i}-m_n \\left(X_{i} \\right)\\right\\}^{2}$.\n",
    "\n"
   ]
  },
  {
   "cell_type": "code",
   "execution_count": 3,
   "metadata": {},
   "outputs": [],
   "source": [
    "#Estimated regression functions \n",
    "\n",
    "m_hat_nw = [nw(h,t,X,y) for t in X ]\n",
    "\n",
    "m_hat_hw = [nw_mis(h,t,X,y,pi(y,1,1),n) for t in X ]\n",
    "\n",
    "m_hat_hw_est = [nw_mis(h,t,X,y,pi_hat,n) for t in X]\n",
    "\n",
    "#Residual estimates \n",
    "\n",
    "r_hat = (y-m_hat_nw)**2\n",
    "\n",
    "r_hat_hw = (y-m_hat_hw)**2\n",
    "\n",
    "r_hat_hw_est = (y-m_hat_hw_est)**2"
   ]
  },
  {
   "cell_type": "code",
   "execution_count": 20,
   "metadata": {},
   "outputs": [],
   "source": [
    "def diff_vol(h,x,X,y):\n",
    "    diff = []\n",
    "    for i in range(1,len(y)):\n",
    "        diff.append(((y[i]-y[i-1])**2)/2)\n",
    "    #\n",
    "    return np.sqrt(sum(diff*norm.pdf((x-X[1:(len(X))])/h))/h)\n",
    "\n"
   ]
  },
  {
   "cell_type": "code",
   "execution_count": 24,
   "metadata": {},
   "outputs": [
    {
     "data": {
      "text/plain": [
       "[]"
      ]
     },
     "execution_count": 24,
     "metadata": {},
     "output_type": "execute_result"
    },
    {
     "data": {
      "image/png": "[encoded data removed]",
      "text/plain": [
       "<Figure size 432x288 with 1 Axes>"
      ]
     },
     "metadata": {
      "needs_background": "light"
     },
     "output_type": "display_data"
    }
   ],
   "source": [
    "fig, ax = plt.subplots(1, 1)\n",
    "ax.plot(X,sigma_reg(X,n),'o', color='black',markersize=3)\n",
    "ax.plot(np.linspace(-2, 2, n),[sigma_res(0.2,t,X,r_hat) for t in np.linspace( -2, 2, n)],color= 'red', lw=3)\n",
    "ax.plot(np.linspace(-2, 2, n),[sigma_mis_res(0.2,t,X,r_hat_hw,pi(y,1,1),n) for t in np.linspace( -2, 2, n)],'-g',color= 'blue', lw=3)\n",
    "\n",
    "ax.plot(np.linspace( -2, 2, n),[sigma_mis_res(h,t,X,r_hat_hw_est,pi_hat,n) for t in np.linspace( -2, 2, n)],'-g',color= 'grey', lw=3)\n",
    "\n",
    "#ax.plot(np.linspace(-2, 2, n),[diff_vol(h,t,X,y) for t in np.linspace(-2, 2, n)],color= 'red', lw=3)\n",
    "\n",
    "ax.plot()"
   ]
  },
  {
   "cell_type": "code",
   "execution_count": null,
   "metadata": {},
   "outputs": [],
   "source": []
  },
  {
   "cell_type": "code",
   "execution_count": null,
   "metadata": {},
   "outputs": [],
   "source": []
  },
  {
   "cell_type": "code",
   "execution_count": null,
   "metadata": {},
   "outputs": [],
   "source": []
  }
 ],
 "metadata": {
  "kernelspec": {
   "display_name": "Python 3",
   "language": "python",
   "name": "python3"
  },
  "language_info": {
   "codemirror_mode": {
    "name": "ipython",
    "version": 3
   },
   "file_extension": ".py",
   "mimetype": "text/x-python",
   "name": "python",
   "nbconvert_exporter": "python",
   "pygments_lexer": "ipython3",
   "version": "3.8.5"
  }
 },
 "nbformat": 4,
 "nbformat_minor": 4
}
