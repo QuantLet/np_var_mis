{
 "cells": [
  {
   "cell_type": "code",
   "execution_count": 1,
   "metadata": {},
   "outputs": [],
   "source": [
    "import os"
   ]
  },
  {
   "cell_type": "code",
   "execution_count": 2,
   "metadata": {},
   "outputs": [],
   "source": [
    "os.chdir('/Users/lilimatic/np_var_mis')"
   ]
  },
  {
   "cell_type": "code",
   "execution_count": 3,
   "metadata": {},
   "outputs": [
    {
     "name": "stderr",
     "output_type": "stream",
     "text": [
      "/Users/lilimatic/opt/anaconda3/lib/python3.8/site-packages/pandas/core/computation/expressions.py:20: UserWarning: Pandas requires version '2.7.3' or newer of 'numexpr' (version '2.7.1' currently installed).\n",
      "  from pandas.core.computation.check import NUMEXPR_INSTALLED\n"
     ]
    }
   ],
   "source": [
    "import pandas as pd\n",
    "import matplotlib.pyplot as plt\n",
    "import numpy as np\n",
    "\n",
    "import statsmodels.nonparametric.api as nparam\n",
    "from statsmodels.nonparametric.kernel_regression import KernelReg\n",
    "\n",
    "from functions import *\n",
    "\n",
    "from scipy.optimize import minimize\n",
    "from multiprocess import Pool"
   ]
  },
  {
   "cell_type": "code",
   "execution_count": 4,
   "metadata": {},
   "outputs": [],
   "source": [
    "df = pd.read_csv('mcycle.csv')"
   ]
  },
  {
   "cell_type": "code",
   "execution_count": 5,
   "metadata": {},
   "outputs": [],
   "source": [
    "df.columns = ['x','y']"
   ]
  },
  {
   "cell_type": "code",
   "execution_count": 6,
   "metadata": {},
   "outputs": [],
   "source": [
    "df = df.sort_values(by=['y'])"
   ]
  },
  {
   "cell_type": "code",
   "execution_count": 7,
   "metadata": {},
   "outputs": [],
   "source": [
    "y = df.y\n",
    "X = df.x\n",
    "\n",
    "#b0=1, b1=1 90 % obs \n",
    "#b0=0, b=1 85 %\n",
    "#b=0.7,0.7\n",
    "b0 = -0.5\n",
    "b1 = -0.5"
   ]
  },
  {
   "cell_type": "code",
   "execution_count": 8,
   "metadata": {},
   "outputs": [],
   "source": [
    "n = len(df)\n",
    "omega = bernoulli.rvs(pi(y,b0,b1), size=n)"
   ]
  },
  {
   "cell_type": "code",
   "execution_count": 9,
   "metadata": {},
   "outputs": [],
   "source": [
    "size = round(sum(omega)/len(df)*100,0)"
   ]
  },
  {
   "cell_type": "code",
   "execution_count": 10,
   "metadata": {},
   "outputs": [
    {
     "data": {
      "text/plain": [
       "29.0"
      ]
     },
     "execution_count": 10,
     "metadata": {},
     "output_type": "execute_result"
    }
   ],
   "source": [
    "size"
   ]
  },
  {
   "cell_type": "code",
   "execution_count": 11,
   "metadata": {},
   "outputs": [],
   "source": [
    "df['omega'] = omega"
   ]
  },
  {
   "cell_type": "code",
   "execution_count": 12,
   "metadata": {},
   "outputs": [],
   "source": [
    "df_cc = df[df.omega==1]"
   ]
  },
  {
   "cell_type": "code",
   "execution_count": 13,
   "metadata": {},
   "outputs": [
    {
     "data": {
      "text/plain": [
       "x          3.2\n",
       "y       -134.0\n",
       "omega      1.0\n",
       "dtype: float64"
      ]
     },
     "execution_count": 13,
     "metadata": {},
     "output_type": "execute_result"
    }
   ],
   "source": [
    "df_cc.min()"
   ]
  },
  {
   "cell_type": "code",
   "execution_count": 14,
   "metadata": {},
   "outputs": [],
   "source": [
    "model = KernelReg(endog=[df.y],exog=[df.x],reg_type='ll',var_type='c', bw='cv_ls')\n"
   ]
  },
  {
   "cell_type": "code",
   "execution_count": 15,
   "metadata": {},
   "outputs": [],
   "source": [
    "model = KernelReg(endog=[df.y],exog=[df.x],reg_type='ll',var_type='c', bw='cv_ls')\n",
    "\n",
    "#model_cc = KernelReg(endog=[df_cc.y],exog=[df_cc.x],reg_type='lc',var_type='c', bw='cv_ls')\n"
   ]
  },
  {
   "cell_type": "code",
   "execution_count": 16,
   "metadata": {},
   "outputs": [
    {
     "data": {
      "text/plain": [
       "array([1.47580185])"
      ]
     },
     "execution_count": 16,
     "metadata": {},
     "output_type": "execute_result"
    }
   ],
   "source": [
    "model.bw"
   ]
  },
  {
   "cell_type": "code",
   "execution_count": 17,
   "metadata": {},
   "outputs": [],
   "source": [
    "def r_parallel(h):\n",
    "    #print(1)\n",
    "    def fn(j):\n",
    "        df1 = df.drop([j],axis=0)\n",
    "        y_hat = df.omega[j]*nw_mis(h,df.x[j],df1.x,df1.y,pi(df1.y,b0,b1),df1.omega)\n",
    "        return df.omega[j]*(df.y[j]-y_hat)**2\n",
    "\n",
    "    with Pool(8) as p:\n",
    "        return np.mean(p.map(fn, range(len(df))))"
   ]
  },
  {
   "cell_type": "code",
   "execution_count": 18,
   "metadata": {},
   "outputs": [
    {
     "name": "stdout",
     "output_type": "stream",
     "text": [
      "CPU times: user 3.3 s, sys: 639 ms, total: 3.93 s\n",
      "Wall time: 4.23 s\n"
     ]
    }
   ],
   "source": [
    "%%time\n",
    "# r_parallel(0.1)\n",
    "h_ipw = minimize(r_parallel, 0.7).x"
   ]
  },
  {
   "cell_type": "code",
   "execution_count": 19,
   "metadata": {},
   "outputs": [
    {
     "data": {
      "text/plain": [
       "2.169796259506276"
      ]
     },
     "execution_count": 19,
     "metadata": {},
     "output_type": "execute_result"
    }
   ],
   "source": [
    "h_ipw[0]"
   ]
  },
  {
   "cell_type": "code",
   "execution_count": 20,
   "metadata": {},
   "outputs": [
    {
     "data": {
      "image/png": "[encoded data removed]",
      "text/plain": [
       "<Figure size 720x432 with 1 Axes>"
      ]
     },
     "metadata": {
      "needs_background": "light"
     },
     "output_type": "display_data"
    }
   ],
   "source": [
    "fig, ax = plt.subplots(1, 1,figsize=(10, 6))\n",
    "\n",
    "plt.plot(df['x'],df['y'],'o',mfc='none',color='black')\n",
    "plt.plot(df_cc['x'],df_cc['y'],'o',color='black')\n",
    "\n",
    "\n",
    "#Full model \n",
    "ax.plot(np.linspace(2.4, 57.6, n),model.fit(np.linspace(2.4, 57.6, n))[0] ,color= 'black', lw=2)\n",
    "\n",
    "#CC estimator \n",
    "#ax.plot(np.linspace(2.4, 57.6, n),model_cc.fit(np.linspace(2.4, 57.6, n))[0] ,color= 'blue', lw=2)\n",
    "\n",
    "#IPW estimator \n",
    "ax.plot(np.linspace(2.4, 57.6, n),[nw_mis(h_ipw,t,X,y,pi(y,b0,b1),omega) for t in np.linspace(2.4, 57.6, n)],color= 'red', lw=2)\n",
    "\n",
    "plt.savefig(f'Mcyle_{size}.pdf',transparent=True)"
   ]
  },
  {
   "cell_type": "code",
   "execution_count": 48,
   "metadata": {},
   "outputs": [
    {
     "name": "stderr",
     "output_type": "stream",
     "text": [
      "<ipython-input-48-49071ffb8f92>:5: SettingWithCopyWarning: \n",
      "A value is trying to be set on a copy of a slice from a DataFrame.\n",
      "Try using .loc[row_indexer,col_indexer] = value instead\n",
      "\n",
      "See the caveats in the documentation: https://pandas.pydata.org/pandas-docs/stable/user_guide/indexing.html#returning-a-view-versus-a-copy\n",
      "  df_cc['res_abs'] = np.abs(df_cc['y'] - df_cc['x'].apply(lambda t:nw_mis(h_ipw,t,X,y,pi(y,b0,b1),omega)))\n",
      "<ipython-input-48-49071ffb8f92>:7: SettingWithCopyWarning: \n",
      "A value is trying to be set on a copy of a slice from a DataFrame.\n",
      "Try using .loc[row_indexer,col_indexer] = value instead\n",
      "\n",
      "See the caveats in the documentation: https://pandas.pydata.org/pandas-docs/stable/user_guide/indexing.html#returning-a-view-versus-a-copy\n",
      "  df_cc['res_sqr'] =(df_cc['y'] - df_cc['x'].apply(lambda t:nw_mis(h_ipw,t,X,y,pi(y,b0,b1),omega)))**2\n"
     ]
    }
   ],
   "source": [
    "df['res_sqr'] = (df.y -  model.fit(df.x)[0])**2\n",
    "\n",
    "df['res_abs'] = np.abs(df.y -  model.fit(df.x)[0])\n",
    "\n",
    "df_cc['res_abs'] = np.abs(df_cc['y'] - df_cc['x'].apply(lambda t:nw_mis(h_ipw,t,X,y,pi(y,b0,b1),omega)))\n",
    "\n",
    "df_cc['res_sqr'] =(df_cc['y'] - df_cc['x'].apply(lambda t:nw_mis(h_ipw,t,X,y,pi(y,b0,b1),omega)))**2\n"
   ]
  },
  {
   "cell_type": "code",
   "execution_count": 49,
   "metadata": {},
   "outputs": [
    {
     "data": {
      "text/plain": [
       "1.0992941161581753"
      ]
     },
     "execution_count": 49,
     "metadata": {},
     "output_type": "execute_result"
    }
   ],
   "source": [
    "np.mean(df_cc['res_abs']) / np.mean(df['res_abs'])"
   ]
  },
  {
   "cell_type": "code",
   "execution_count": 50,
   "metadata": {},
   "outputs": [
    {
     "data": {
      "text/plain": [
       "1.1545548183251373"
      ]
     },
     "execution_count": 50,
     "metadata": {},
     "output_type": "execute_result"
    }
   ],
   "source": [
    "np.mean(df_cc['res_sqr']) / np.mean(df['res_sqr'])"
   ]
  },
  {
   "cell_type": "code",
   "execution_count": 51,
   "metadata": {},
   "outputs": [
    {
     "data": {
      "text/plain": [
       "459.8609085228205"
      ]
     },
     "execution_count": 51,
     "metadata": {},
     "output_type": "execute_result"
    }
   ],
   "source": [
    "np.mean(df['res_sqr'])"
   ]
  },
  {
   "cell_type": "code",
   "execution_count": 52,
   "metadata": {},
   "outputs": [
    {
     "data": {
      "text/plain": [
       "530.9346276943976"
      ]
     },
     "execution_count": 52,
     "metadata": {},
     "output_type": "execute_result"
    }
   ],
   "source": [
    "np.mean(df_cc['res_sqr'])"
   ]
  },
  {
   "cell_type": "code",
   "execution_count": 53,
   "metadata": {},
   "outputs": [],
   "source": [
    "#df_cc['res_ipw'] = df_cc['y'] - df_cc['x'].apply(lambda t:nw_mis(h_ipw_ipw,t,X,y,pi(y,b0,b1),omega))\n"
   ]
  },
  {
   "cell_type": "code",
   "execution_count": 54,
   "metadata": {},
   "outputs": [
    {
     "data": {
      "text/plain": [
       "1.1545548183251373"
      ]
     },
     "execution_count": 54,
     "metadata": {},
     "output_type": "execute_result"
    }
   ],
   "source": [
    "np.mean(df_cc['res_sqr'])/np.mean(df['res_sqr'])"
   ]
  },
  {
   "cell_type": "code",
   "execution_count": 55,
   "metadata": {},
   "outputs": [],
   "source": [
    "\n",
    "#model_var_cc = KernelReg(endog=[df_cc.res_sqr],exog=[df_cc.x],reg_type='lc',var_type='c', bw='cv_ls')\n",
    "\n",
    "#Direct method \n",
    "h_fix = 1.5\n",
    "\n",
    "model_dir_vn = KernelReg(endog=[(df.y)**2],exog=[df.x],reg_type='lc',var_type='c', bw='{h}') \n",
    "model_dir_mn = KernelReg(endog=[df.y],exog=[df.x],reg_type='lc',var_type='c', bw='{h}') \n",
    "\n",
    "#Differences \n",
    "\n",
    "#Residual\n",
    "\n",
    "model_dir_mn = KernelReg(endog=[df_diff.y],exog=[df_diff.x],reg_type='lc',var_type='c', bw='{h}') "
   ]
  },
  {
   "cell_type": "code",
   "execution_count": 56,
   "metadata": {},
   "outputs": [],
   "source": [
    "#Full residual-based\n",
    "model_var = KernelReg(endog=[df.res_sqr],exog=[df.x],reg_type='lc',var_type='c', bw='cv_ls')\n"
   ]
  },
  {
   "cell_type": "code",
   "execution_count": 79,
   "metadata": {},
   "outputs": [
    {
     "data": {
      "text/html": [
       "<div>\n",
       "<style scoped>\n",
       "    .dataframe tbody tr th:only-of-type {\n",
       "        vertical-align: middle;\n",
       "    }\n",
       "\n",
       "    .dataframe tbody tr th {\n",
       "        vertical-align: top;\n",
       "    }\n",
       "\n",
       "    .dataframe thead th {\n",
       "        text-align: right;\n",
       "    }\n",
       "</style>\n",
       "<table border=\"1\" class=\"dataframe\">\n",
       "  <thead>\n",
       "    <tr style=\"text-align: right;\">\n",
       "      <th></th>\n",
       "      <th>x</th>\n",
       "      <th>y</th>\n",
       "      <th>omega</th>\n",
       "      <th>res_sqr</th>\n",
       "      <th>res_abs</th>\n",
       "    </tr>\n",
       "  </thead>\n",
       "  <tbody>\n",
       "    <tr>\n",
       "      <th>61</th>\n",
       "      <td>21.2</td>\n",
       "      <td>-134.0</td>\n",
       "      <td>1</td>\n",
       "      <td>541.572354</td>\n",
       "      <td>23.271707</td>\n",
       "    </tr>\n",
       "    <tr>\n",
       "      <th>64</th>\n",
       "      <td>22.0</td>\n",
       "      <td>-123.1</td>\n",
       "      <td>1</td>\n",
       "      <td>202.794246</td>\n",
       "      <td>14.240584</td>\n",
       "    </tr>\n",
       "    <tr>\n",
       "      <th>67</th>\n",
       "      <td>24.0</td>\n",
       "      <td>-112.5</td>\n",
       "      <td>1</td>\n",
       "      <td>597.083849</td>\n",
       "      <td>24.435299</td>\n",
       "    </tr>\n",
       "    <tr>\n",
       "      <th>63</th>\n",
       "      <td>21.8</td>\n",
       "      <td>-108.4</td>\n",
       "      <td>1</td>\n",
       "      <td>1.567308</td>\n",
       "      <td>1.251922</td>\n",
       "    </tr>\n",
       "    <tr>\n",
       "      <th>50</th>\n",
       "      <td>17.6</td>\n",
       "      <td>-101.9</td>\n",
       "      <td>1</td>\n",
       "      <td>558.406848</td>\n",
       "      <td>23.630634</td>\n",
       "    </tr>\n",
       "    <tr>\n",
       "      <th>46</th>\n",
       "      <td>16.8</td>\n",
       "      <td>-77.7</td>\n",
       "      <td>1</td>\n",
       "      <td>213.312726</td>\n",
       "      <td>14.605229</td>\n",
       "    </tr>\n",
       "    <tr>\n",
       "      <th>57</th>\n",
       "      <td>19.4</td>\n",
       "      <td>-72.3</td>\n",
       "      <td>1</td>\n",
       "      <td>845.521675</td>\n",
       "      <td>29.077855</td>\n",
       "    </tr>\n",
       "    <tr>\n",
       "      <th>43</th>\n",
       "      <td>16.6</td>\n",
       "      <td>-59.0</td>\n",
       "      <td>1</td>\n",
       "      <td>0.032093</td>\n",
       "      <td>0.179145</td>\n",
       "    </tr>\n",
       "    <tr>\n",
       "      <th>70</th>\n",
       "      <td>24.6</td>\n",
       "      <td>-53.5</td>\n",
       "      <td>1</td>\n",
       "      <td>505.666255</td>\n",
       "      <td>22.487024</td>\n",
       "    </tr>\n",
       "    <tr>\n",
       "      <th>54</th>\n",
       "      <td>18.6</td>\n",
       "      <td>-50.8</td>\n",
       "      <td>1</td>\n",
       "      <td>1752.616826</td>\n",
       "      <td>41.864267</td>\n",
       "    </tr>\n",
       "    <tr>\n",
       "      <th>81</th>\n",
       "      <td>27.2</td>\n",
       "      <td>-45.6</td>\n",
       "      <td>1</td>\n",
       "      <td>766.503733</td>\n",
       "      <td>27.685804</td>\n",
       "    </tr>\n",
       "    <tr>\n",
       "      <th>105</th>\n",
       "      <td>36.2</td>\n",
       "      <td>-37.5</td>\n",
       "      <td>1</td>\n",
       "      <td>2718.448527</td>\n",
       "      <td>52.138743</td>\n",
       "    </tr>\n",
       "    <tr>\n",
       "      <th>37</th>\n",
       "      <td>16.0</td>\n",
       "      <td>-26.8</td>\n",
       "      <td>1</td>\n",
       "      <td>344.445489</td>\n",
       "      <td>18.559243</td>\n",
       "    </tr>\n",
       "    <tr>\n",
       "      <th>82</th>\n",
       "      <td>27.2</td>\n",
       "      <td>-24.2</td>\n",
       "      <td>1</td>\n",
       "      <td>39.511330</td>\n",
       "      <td>6.285804</td>\n",
       "    </tr>\n",
       "    <tr>\n",
       "      <th>111</th>\n",
       "      <td>40.0</td>\n",
       "      <td>-21.5</td>\n",
       "      <td>1</td>\n",
       "      <td>553.262570</td>\n",
       "      <td>23.521534</td>\n",
       "    </tr>\n",
       "    <tr>\n",
       "      <th>34</th>\n",
       "      <td>15.8</td>\n",
       "      <td>-21.5</td>\n",
       "      <td>1</td>\n",
       "      <td>373.178102</td>\n",
       "      <td>19.317818</td>\n",
       "    </tr>\n",
       "    <tr>\n",
       "      <th>78</th>\n",
       "      <td>26.2</td>\n",
       "      <td>-21.5</td>\n",
       "      <td>1</td>\n",
       "      <td>337.485719</td>\n",
       "      <td>18.370784</td>\n",
       "    </tr>\n",
       "    <tr>\n",
       "      <th>86</th>\n",
       "      <td>28.4</td>\n",
       "      <td>-21.5</td>\n",
       "      <td>1</td>\n",
       "      <td>692.825100</td>\n",
       "      <td>26.321571</td>\n",
       "    </tr>\n",
       "    <tr>\n",
       "      <th>38</th>\n",
       "      <td>16.2</td>\n",
       "      <td>-21.5</td>\n",
       "      <td>1</td>\n",
       "      <td>806.987708</td>\n",
       "      <td>28.407529</td>\n",
       "    </tr>\n",
       "    <tr>\n",
       "      <th>22</th>\n",
       "      <td>14.6</td>\n",
       "      <td>-5.4</td>\n",
       "      <td>1</td>\n",
       "      <td>133.698983</td>\n",
       "      <td>11.562828</td>\n",
       "    </tr>\n",
       "    <tr>\n",
       "      <th>41</th>\n",
       "      <td>16.4</td>\n",
       "      <td>-5.4</td>\n",
       "      <td>1</td>\n",
       "      <td>2402.061821</td>\n",
       "      <td>49.010834</td>\n",
       "    </tr>\n",
       "    <tr>\n",
       "      <th>13</th>\n",
       "      <td>10.0</td>\n",
       "      <td>-2.7</td>\n",
       "      <td>1</td>\n",
       "      <td>0.143974</td>\n",
       "      <td>0.379439</td>\n",
       "    </tr>\n",
       "    <tr>\n",
       "      <th>129</th>\n",
       "      <td>55.0</td>\n",
       "      <td>-2.7</td>\n",
       "      <td>1</td>\n",
       "      <td>12.374330</td>\n",
       "      <td>3.517717</td>\n",
       "    </tr>\n",
       "    <tr>\n",
       "      <th>6</th>\n",
       "      <td>6.6</td>\n",
       "      <td>-2.7</td>\n",
       "      <td>1</td>\n",
       "      <td>0.193632</td>\n",
       "      <td>0.440037</td>\n",
       "    </tr>\n",
       "    <tr>\n",
       "      <th>2</th>\n",
       "      <td>3.2</td>\n",
       "      <td>-2.7</td>\n",
       "      <td>1</td>\n",
       "      <td>1.862511</td>\n",
       "      <td>1.364739</td>\n",
       "    </tr>\n",
       "    <tr>\n",
       "      <th>8</th>\n",
       "      <td>7.8</td>\n",
       "      <td>-2.7</td>\n",
       "      <td>1</td>\n",
       "      <td>0.075258</td>\n",
       "      <td>0.274332</td>\n",
       "    </tr>\n",
       "    <tr>\n",
       "      <th>27</th>\n",
       "      <td>14.8</td>\n",
       "      <td>-2.7</td>\n",
       "      <td>1</td>\n",
       "      <td>306.613963</td>\n",
       "      <td>17.510396</td>\n",
       "    </tr>\n",
       "    <tr>\n",
       "      <th>19</th>\n",
       "      <td>13.6</td>\n",
       "      <td>-2.7</td>\n",
       "      <td>1</td>\n",
       "      <td>30.040401</td>\n",
       "      <td>5.480912</td>\n",
       "    </tr>\n",
       "    <tr>\n",
       "      <th>110</th>\n",
       "      <td>39.4</td>\n",
       "      <td>-1.3</td>\n",
       "      <td>1</td>\n",
       "      <td>29.271101</td>\n",
       "      <td>5.410277</td>\n",
       "    </tr>\n",
       "    <tr>\n",
       "      <th>119</th>\n",
       "      <td>44.0</td>\n",
       "      <td>-1.3</td>\n",
       "      <td>1</td>\n",
       "      <td>32.883001</td>\n",
       "      <td>5.734370</td>\n",
       "    </tr>\n",
       "    <tr>\n",
       "      <th>116</th>\n",
       "      <td>42.8</td>\n",
       "      <td>0.0</td>\n",
       "      <td>1</td>\n",
       "      <td>32.097488</td>\n",
       "      <td>5.665464</td>\n",
       "    </tr>\n",
       "    <tr>\n",
       "      <th>17</th>\n",
       "      <td>11.4</td>\n",
       "      <td>0.0</td>\n",
       "      <td>1</td>\n",
       "      <td>21.682591</td>\n",
       "      <td>4.656457</td>\n",
       "    </tr>\n",
       "    <tr>\n",
       "      <th>109</th>\n",
       "      <td>39.2</td>\n",
       "      <td>5.4</td>\n",
       "      <td>1</td>\n",
       "      <td>0.119360</td>\n",
       "      <td>0.345485</td>\n",
       "    </tr>\n",
       "    <tr>\n",
       "      <th>130</th>\n",
       "      <td>55.0</td>\n",
       "      <td>10.7</td>\n",
       "      <td>1</td>\n",
       "      <td>97.659527</td>\n",
       "      <td>9.882283</td>\n",
       "    </tr>\n",
       "    <tr>\n",
       "      <th>121</th>\n",
       "      <td>45.0</td>\n",
       "      <td>10.7</td>\n",
       "      <td>1</td>\n",
       "      <td>67.473926</td>\n",
       "      <td>8.214251</td>\n",
       "    </tr>\n",
       "    <tr>\n",
       "      <th>118</th>\n",
       "      <td>43.0</td>\n",
       "      <td>14.7</td>\n",
       "      <td>1</td>\n",
       "      <td>82.698538</td>\n",
       "      <td>9.093874</td>\n",
       "    </tr>\n",
       "    <tr>\n",
       "      <th>87</th>\n",
       "      <td>28.4</td>\n",
       "      <td>37.5</td>\n",
       "      <td>1</td>\n",
       "      <td>1067.879721</td>\n",
       "      <td>32.678429</td>\n",
       "    </tr>\n",
       "    <tr>\n",
       "      <th>102</th>\n",
       "      <td>35.4</td>\n",
       "      <td>69.6</td>\n",
       "      <td>1</td>\n",
       "      <td>2739.877186</td>\n",
       "      <td>52.343836</td>\n",
       "    </tr>\n",
       "  </tbody>\n",
       "</table>\n",
       "</div>"
      ],
      "text/plain": [
       "        x      y  omega      res_sqr    res_abs\n",
       "61   21.2 -134.0      1   541.572354  23.271707\n",
       "64   22.0 -123.1      1   202.794246  14.240584\n",
       "67   24.0 -112.5      1   597.083849  24.435299\n",
       "63   21.8 -108.4      1     1.567308   1.251922\n",
       "50   17.6 -101.9      1   558.406848  23.630634\n",
       "46   16.8  -77.7      1   213.312726  14.605229\n",
       "57   19.4  -72.3      1   845.521675  29.077855\n",
       "43   16.6  -59.0      1     0.032093   0.179145\n",
       "70   24.6  -53.5      1   505.666255  22.487024\n",
       "54   18.6  -50.8      1  1752.616826  41.864267\n",
       "81   27.2  -45.6      1   766.503733  27.685804\n",
       "105  36.2  -37.5      1  2718.448527  52.138743\n",
       "37   16.0  -26.8      1   344.445489  18.559243\n",
       "82   27.2  -24.2      1    39.511330   6.285804\n",
       "111  40.0  -21.5      1   553.262570  23.521534\n",
       "34   15.8  -21.5      1   373.178102  19.317818\n",
       "78   26.2  -21.5      1   337.485719  18.370784\n",
       "86   28.4  -21.5      1   692.825100  26.321571\n",
       "38   16.2  -21.5      1   806.987708  28.407529\n",
       "22   14.6   -5.4      1   133.698983  11.562828\n",
       "41   16.4   -5.4      1  2402.061821  49.010834\n",
       "13   10.0   -2.7      1     0.143974   0.379439\n",
       "129  55.0   -2.7      1    12.374330   3.517717\n",
       "6     6.6   -2.7      1     0.193632   0.440037\n",
       "2     3.2   -2.7      1     1.862511   1.364739\n",
       "8     7.8   -2.7      1     0.075258   0.274332\n",
       "27   14.8   -2.7      1   306.613963  17.510396\n",
       "19   13.6   -2.7      1    30.040401   5.480912\n",
       "110  39.4   -1.3      1    29.271101   5.410277\n",
       "119  44.0   -1.3      1    32.883001   5.734370\n",
       "116  42.8    0.0      1    32.097488   5.665464\n",
       "17   11.4    0.0      1    21.682591   4.656457\n",
       "109  39.2    5.4      1     0.119360   0.345485\n",
       "130  55.0   10.7      1    97.659527   9.882283\n",
       "121  45.0   10.7      1    67.473926   8.214251\n",
       "118  43.0   14.7      1    82.698538   9.093874\n",
       "87   28.4   37.5      1  1067.879721  32.678429\n",
       "102  35.4   69.6      1  2739.877186  52.343836"
      ]
     },
     "execution_count": 79,
     "metadata": {},
     "output_type": "execute_result"
    }
   ],
   "source": [
    "df.loc[df_cc.index]"
   ]
  },
  {
   "cell_type": "code",
   "execution_count": null,
   "metadata": {},
   "outputs": [],
   "source": [
    "df.loc[df_cc.index]"
   ]
  },
  {
   "cell_type": "code",
   "execution_count": 80,
   "metadata": {},
   "outputs": [],
   "source": [
    "def r_parallel_res(h):\n",
    "    #print(1)\n",
    "    def fn(j):\n",
    "        df1 = df.drop([j],axis=0)\n",
    "        y_hat = df.res_sqr[j]*nw_mis(h,df.x[j],df1.x,df1.res_sqr,pi(df1.y,b0,b1),df1.omega)\n",
    "        return (df.omega[j])*(df.res_sqr[j]-y_hat)**2\n",
    "\n",
    "    with Pool(8) as p:\n",
    "        return np.mean(p.map(fn, range(len(df))))"
   ]
  },
  {
   "cell_type": "code",
   "execution_count": 85,
   "metadata": {},
   "outputs": [
    {
     "name": "stdout",
     "output_type": "stream",
     "text": [
      "CPU times: user 2.81 s, sys: 591 ms, total: 3.4 s\n",
      "Wall time: 3.5 s\n"
     ]
    }
   ],
   "source": [
    "%%time\n",
    "# r_parallel(0.1)\n",
    "h_ipw_var = minimize(r_parallel, 1.4).x"
   ]
  },
  {
   "cell_type": "code",
   "execution_count": 86,
   "metadata": {},
   "outputs": [
    {
     "data": {
      "text/plain": [
       "array([2.16979631])"
      ]
     },
     "execution_count": 86,
     "metadata": {},
     "output_type": "execute_result"
    }
   ],
   "source": [
    "h_ipw_var"
   ]
  },
  {
   "cell_type": "code",
   "execution_count": 60,
   "metadata": {},
   "outputs": [
    {
     "data": {
      "text/plain": [
       "array([1.15382956])"
      ]
     },
     "execution_count": 60,
     "metadata": {},
     "output_type": "execute_result"
    }
   ],
   "source": [
    "model_var.bw"
   ]
  },
  {
   "cell_type": "code",
   "execution_count": 64,
   "metadata": {},
   "outputs": [
    {
     "name": "stderr",
     "output_type": "stream",
     "text": [
      "<ipython-input-64-43d8c6a90e0e>:11: UserWarning: color is redundantly defined by the 'color' keyword argument and the fmt string \"-g\" (-> color='g'). The keyword argument will take precedence.\n",
      "  ax.plot(np.linspace(2.4, 57.6, n),[sigma_mis_res(h_ipw_var[0],t,X,df.res_sqr,pi(y,b0,b1),omega)**2 for t in np.linspace(2.4, 57.6, n)],'-g',color= 'red', lw=2)\n"
     ]
    },
    {
     "data": {
      "image/png": "[encoded data removed]",
      "text/plain": [
       "<Figure size 720x432 with 1 Axes>"
      ]
     },
     "metadata": {
      "needs_background": "light"
     },
     "output_type": "display_data"
    }
   ],
   "source": [
    "fig, ax = plt.subplots(1, 1,figsize=(10, 6))\n",
    "\n",
    "plt.plot(df['x'],df['res_sqr'],'o',mfc='none',color='black')\n",
    "\n",
    "plt.plot(df_cc['x'],df_cc['res_sqr'],'o',color='black')\n",
    "\n",
    "#Full model \n",
    "ax.plot(np.linspace(2.4, 57.6, n),model_var.fit(np.linspace(2.4, 57.6, n))[0] ,color= 'black', lw=2)\n",
    "\n",
    "#IPW\n",
    "ax.plot(np.linspace(2.4, 57.6, n),[sigma_mis_res(h_ipw_var[0],t,X,df.res_sqr,pi(y,b0,b1),omega)**2 for t in np.linspace(2.4, 57.6, n)],'-g',color= 'red', lw=2)\n",
    "\n",
    "#Complete-case \n",
    "#ax.plot(np.linspace(2.4, 57.6, n),model_var_cc.fit(np.linspace(2.4, 57.6, n))[0] ,color= 'blue', lw=1,linestyle='dashed')\n",
    "\n",
    "ax.set_ylim(0,2500)\n",
    "plt.savefig(f'Mcyle_var_res{size}.pdf',transparent=True)"
   ]
  },
  {
   "cell_type": "code",
   "execution_count": null,
   "metadata": {},
   "outputs": [],
   "source": []
  },
  {
   "cell_type": "code",
   "execution_count": null,
   "metadata": {},
   "outputs": [],
   "source": []
  },
  {
   "cell_type": "code",
   "execution_count": null,
   "metadata": {},
   "outputs": [],
   "source": []
  }
 ],
 "metadata": {
  "kernelspec": {
   "display_name": "Python 3",
   "language": "python",
   "name": "python3"
  },
  "language_info": {
   "codemirror_mode": {
    "name": "ipython",
    "version": 3
   },
   "file_extension": ".py",
   "mimetype": "text/x-python",
   "name": "python",
   "nbconvert_exporter": "python",
   "pygments_lexer": "ipython3",
   "version": "3.8.5"
  }
 },
 "nbformat": 4,
 "nbformat_minor": 4
}
