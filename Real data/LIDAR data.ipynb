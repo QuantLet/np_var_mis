{
 "cells": [
  {
   "cell_type": "code",
   "execution_count": 1,
   "metadata": {},
   "outputs": [],
   "source": [
    "import os\n",
    "os.chdir('/Users/lilimatic/np_var_mis')"
   ]
  },
  {
   "cell_type": "code",
   "execution_count": 2,
   "metadata": {},
   "outputs": [
    {
     "name": "stderr",
     "output_type": "stream",
     "text": [
      "/Users/lilimatic/opt/anaconda3/lib/python3.8/site-packages/pandas/core/computation/expressions.py:20: UserWarning: Pandas requires version '2.7.3' or newer of 'numexpr' (version '2.7.1' currently installed).\n",
      "  from pandas.core.computation.check import NUMEXPR_INSTALLED\n"
     ]
    }
   ],
   "source": [
    "import pandas as pd\n",
    "import matplotlib.pyplot as plt\n",
    "import numpy as np\n",
    "\n",
    "import statsmodels.nonparametric.api as nparam\n",
    "from statsmodels.nonparametric.kernel_regression import KernelReg\n",
    "\n",
    "from functions import *\n",
    "\n",
    "from scipy.optimize import minimize\n",
    "from multiprocess import Pool"
   ]
  },
  {
   "cell_type": "code",
   "execution_count": 3,
   "metadata": {},
   "outputs": [],
   "source": [
    "df = pd.read_csv('lidar_dataset.csv')"
   ]
  },
  {
   "cell_type": "code",
   "execution_count": 4,
   "metadata": {},
   "outputs": [],
   "source": [
    "df.columns = ['x','y']"
   ]
  },
  {
   "cell_type": "code",
   "execution_count": 5,
   "metadata": {},
   "outputs": [],
   "source": [
    "df = df.sort_values(by=['y'])"
   ]
  },
  {
   "cell_type": "code",
   "execution_count": 6,
   "metadata": {},
   "outputs": [],
   "source": [
    "y = df.y\n",
    "\n",
    "df.x = np.log10(df.x)\n",
    "\n",
    "df.y = np.exp(df.y)\n",
    "\n",
    "y = df.y\n",
    "\n",
    "#b0=1, b1=1 90 % obs \n",
    "#b0=0, b=1 85 %\n",
    "#b=0.7,0.7\n",
    "b0 = -0.9\n",
    "b1 = -0.7"
   ]
  },
  {
   "cell_type": "code",
   "execution_count": 7,
   "metadata": {},
   "outputs": [],
   "source": [
    "n = len(df)\n",
    "omega = bernoulli.rvs(pi(y,b0,b1), size=n)"
   ]
  },
  {
   "cell_type": "code",
   "execution_count": 8,
   "metadata": {},
   "outputs": [
    {
     "data": {
      "text/plain": [
       "221"
      ]
     },
     "execution_count": 8,
     "metadata": {},
     "output_type": "execute_result"
    }
   ],
   "source": [
    "n"
   ]
  },
  {
   "cell_type": "code",
   "execution_count": 9,
   "metadata": {},
   "outputs": [
    {
     "data": {
      "text/plain": [
       "32.0"
      ]
     },
     "execution_count": 9,
     "metadata": {},
     "output_type": "execute_result"
    }
   ],
   "source": [
    "size = round(sum(omega)/len(df)*100,0)\n",
    "size"
   ]
  },
  {
   "cell_type": "code",
   "execution_count": 10,
   "metadata": {},
   "outputs": [],
   "source": [
    "df['omega'] = omega\n",
    "df_cc = df[df.omega==1]"
   ]
  },
  {
   "cell_type": "code",
   "execution_count": 11,
   "metadata": {},
   "outputs": [],
   "source": [
    "model = KernelReg(endog=[df.y],exog=[df.x],reg_type='lc',var_type='c', bw='cv_ls')\n"
   ]
  },
  {
   "cell_type": "code",
   "execution_count": 12,
   "metadata": {},
   "outputs": [
    {
     "data": {
      "text/plain": [
       "array([0.00973373])"
      ]
     },
     "execution_count": 12,
     "metadata": {},
     "output_type": "execute_result"
    }
   ],
   "source": [
    "model.bw"
   ]
  },
  {
   "cell_type": "code",
   "execution_count": 13,
   "metadata": {},
   "outputs": [],
   "source": [
    "def r_parallel(h):\n",
    "    #print(1)\n",
    "    def fn(j):\n",
    "        df1 = df.drop([j],axis=0)\n",
    "        y_hat = df.omega[j]*nw_mis(h,df.x[j],df1.x,df1.y,pi(df1.y,b0,b1),df1.omega)\n",
    "        return df.omega[j]*(df.y[j]-y_hat)**2\n",
    "\n",
    "    with Pool(8) as p:\n",
    "        return np.mean(p.map(fn, range(len(df))))"
   ]
  },
  {
   "cell_type": "code",
   "execution_count": 14,
   "metadata": {},
   "outputs": [
    {
     "name": "stdout",
     "output_type": "stream",
     "text": [
      "CPU times: user 2.85 s, sys: 452 ms, total: 3.31 s\n",
      "Wall time: 3.4 s\n"
     ]
    }
   ],
   "source": [
    "%%time\n",
    "# r_parallel(0.1)\n",
    "h_ipw = minimize(r_parallel, 0.01).x"
   ]
  },
  {
   "cell_type": "code",
   "execution_count": 15,
   "metadata": {},
   "outputs": [
    {
     "data": {
      "text/plain": [
       "array([0.00882239])"
      ]
     },
     "execution_count": 15,
     "metadata": {},
     "output_type": "execute_result"
    }
   ],
   "source": [
    "h_ipw"
   ]
  },
  {
   "cell_type": "code",
   "execution_count": 17,
   "metadata": {},
   "outputs": [
    {
     "data": {
      "image/png": "[encoded data removed]",
      "text/plain": [
       "<Figure size 720x432 with 1 Axes>"
      ]
     },
     "metadata": {
      "needs_background": "light"
     },
     "output_type": "display_data"
    }
   ],
   "source": [
    "fig, ax = plt.subplots(1, 1,figsize=(10, 6))\n",
    "\n",
    "plt.plot(df['x'],df['y'],'o',mfc='none',color='black')\n",
    "plt.plot(df_cc['x'],df_cc['y'],'o',color='black')\n",
    "\n",
    "\n",
    "#Full model \n",
    "ax.plot(np.linspace(2.6, 2.85, n),model.fit(np.linspace(2.6, 2.85, n))[0] ,color= 'black', lw=2)\n",
    "\n",
    "#CC estimator \n",
    "#ax.plot(np.linspace(2.4, 57.6, n),model_cc.fit(np.linspace(2.4, 57.6, n))[0] ,color= 'blue', lw=2)\n",
    "\n",
    "#IPW estimator \n",
    "ax.plot(np.linspace(2.6, 2.85, n),[nw_mis(h_ipw,t,df.x,df.y,pi(y,b0,b1),omega) for t in np.linspace(2.6, 2.85, n)],color= 'red', lw=2)\n",
    "\n",
    "plt.savefig(f'LIDAR_{size}.pdf',transparent=True)"
   ]
  },
  {
   "cell_type": "code",
   "execution_count": 18,
   "metadata": {},
   "outputs": [
    {
     "name": "stderr",
     "output_type": "stream",
     "text": [
      "<ipython-input-18-838dcfc11091>:5: SettingWithCopyWarning: \n",
      "A value is trying to be set on a copy of a slice from a DataFrame.\n",
      "Try using .loc[row_indexer,col_indexer] = value instead\n",
      "\n",
      "See the caveats in the documentation: https://pandas.pydata.org/pandas-docs/stable/user_guide/indexing.html#returning-a-view-versus-a-copy\n",
      "  df_cc['res_abs'] = np.abs(df_cc['y'] - df_cc['x'].apply(lambda t:nw_mis(h_ipw,t,df.x,y,pi(y,b0,b1),omega)))\n",
      "<ipython-input-18-838dcfc11091>:7: SettingWithCopyWarning: \n",
      "A value is trying to be set on a copy of a slice from a DataFrame.\n",
      "Try using .loc[row_indexer,col_indexer] = value instead\n",
      "\n",
      "See the caveats in the documentation: https://pandas.pydata.org/pandas-docs/stable/user_guide/indexing.html#returning-a-view-versus-a-copy\n",
      "  df_cc['res_sqr'] =(df_cc['y'] - df_cc['x'].apply(lambda t:nw_mis(h_ipw,t,df.x,y,pi(y,b0,b1),omega)))**2\n"
     ]
    }
   ],
   "source": [
    "df['res_sqr'] = (df.y -  model.fit(df.x)[0])**2\n",
    "\n",
    "df['res_abs'] = np.abs(df.y -  model.fit(df.x)[0])\n",
    "\n",
    "df_cc['res_abs'] = np.abs(df_cc['y'] - df_cc['x'].apply(lambda t:nw_mis(h_ipw,t,df.x,y,pi(y,b0,b1),omega)))\n",
    "\n",
    "df_cc['res_sqr'] =(df_cc['y'] - df_cc['x'].apply(lambda t:nw_mis(h_ipw,t,df.x,y,pi(y,b0,b1),omega)))**2\n"
   ]
  },
  {
   "cell_type": "code",
   "execution_count": 19,
   "metadata": {},
   "outputs": [
    {
     "data": {
      "text/plain": [
       "0.9317406832518934"
      ]
     },
     "execution_count": 19,
     "metadata": {},
     "output_type": "execute_result"
    }
   ],
   "source": [
    "np.mean(df_cc['res_abs']) / np.mean(df['res_abs'])"
   ]
  },
  {
   "cell_type": "code",
   "execution_count": 20,
   "metadata": {},
   "outputs": [
    {
     "data": {
      "text/plain": [
       "0.819922381667981"
      ]
     },
     "execution_count": 20,
     "metadata": {},
     "output_type": "execute_result"
    }
   ],
   "source": [
    "np.mean(df_cc['res_sqr']) / np.mean(df['res_sqr'])"
   ]
  },
  {
   "cell_type": "code",
   "execution_count": 21,
   "metadata": {},
   "outputs": [
    {
     "data": {
      "text/plain": [
       "0.0020927045440027746"
      ]
     },
     "execution_count": 21,
     "metadata": {},
     "output_type": "execute_result"
    }
   ],
   "source": [
    "np.mean(df['res_sqr'])"
   ]
  },
  {
   "cell_type": "code",
   "execution_count": 22,
   "metadata": {},
   "outputs": [
    {
     "data": {
      "text/plain": [
       "0.0017158552938461612"
      ]
     },
     "execution_count": 22,
     "metadata": {},
     "output_type": "execute_result"
    }
   ],
   "source": [
    "np.mean(df_cc['res_sqr'])"
   ]
  },
  {
   "cell_type": "code",
   "execution_count": 23,
   "metadata": {},
   "outputs": [
    {
     "data": {
      "text/plain": [
       "0.819922381667981"
      ]
     },
     "execution_count": 23,
     "metadata": {},
     "output_type": "execute_result"
    }
   ],
   "source": [
    "np.mean(df_cc['res_sqr'])/np.mean(df['res_sqr'])"
   ]
  },
  {
   "cell_type": "code",
   "execution_count": 24,
   "metadata": {},
   "outputs": [],
   "source": [
    "#Full residual-based\n",
    "model_var = KernelReg(endog=[df.res_sqr],exog=[df.x],reg_type='lc',var_type='c', bw='cv_ls')\n"
   ]
  },
  {
   "cell_type": "code",
   "execution_count": 25,
   "metadata": {},
   "outputs": [
    {
     "name": "stderr",
     "output_type": "stream",
     "text": [
      "<ipython-input-25-1ee6e8eba78b>:2: SettingWithCopyWarning: \n",
      "A value is trying to be set on a copy of a slice from a DataFrame.\n",
      "Try using .loc[row_indexer,col_indexer] = value instead\n",
      "\n",
      "See the caveats in the documentation: https://pandas.pydata.org/pandas-docs/stable/user_guide/indexing.html#returning-a-view-versus-a-copy\n",
      "  df_cc['res'] = (df_cc['y'] - df_cc['x'].apply(lambda t:nw_mis(h_ipw,t,df.x,df.y,pi(y,b0,b1),omega)))**2\n"
     ]
    }
   ],
   "source": [
    "df['res'] = (df['y'] - model.fit(df['x'])[0])**2\n",
    "df_cc['res'] = (df_cc['y'] - df_cc['x'].apply(lambda t:nw_mis(h_ipw,t,df.x,df.y,pi(y,b0,b1),omega)))**2"
   ]
  },
  {
   "cell_type": "code",
   "execution_count": 26,
   "metadata": {},
   "outputs": [],
   "source": [
    "model_res = KernelReg(endog=[df.res],exog=[df.x],reg_type='lc',var_type='c', bw='cv_ls')\n"
   ]
  },
  {
   "cell_type": "code",
   "execution_count": 27,
   "metadata": {},
   "outputs": [],
   "source": [
    "def nw_mis(h,x,X,y,p,omega):\n",
    "    #if h < 0.001:\n",
    "    #    h = 0.001\n",
    "    y = ((y*omega)/p)\n",
    "    num = sum(y*norm.pdf((x-X)/h))\n",
    "    dem = sum((omega/p)*norm.pdf((x-X)/h))\n",
    "    return num/dem"
   ]
  },
  {
   "cell_type": "code",
   "execution_count": 28,
   "metadata": {},
   "outputs": [],
   "source": [
    "df_cc.reset_index(inplace=True)"
   ]
  },
  {
   "cell_type": "code",
   "execution_count": 29,
   "metadata": {},
   "outputs": [
    {
     "data": {
      "text/plain": [
       "array([0.03531706])"
      ]
     },
     "execution_count": 29,
     "metadata": {},
     "output_type": "execute_result"
    }
   ],
   "source": [
    "model_res.bw"
   ]
  },
  {
   "cell_type": "code",
   "execution_count": 30,
   "metadata": {},
   "outputs": [],
   "source": [
    "# Create a DataFrame using the array\n",
    "df_ones = pd.DataFrame(np.ones(df_cc[['x']].shape))\n",
    "\n",
    "def r_parallel_res(h):\n",
    "    #print(1)\n",
    "    def fn(j):\n",
    "        df1 = df_cc.drop([j],axis=0)\n",
    "        df_ones1 = df_ones.drop([j],axis=0)\n",
    "        y_hat = nw_mis(h,df_cc.x[j],df1.x,df1.res,pi(df1.y,b0,b1),df_ones1[0])\n",
    "        return (df_cc.res[j]-y_hat)**2 \n",
    "\n",
    "    with Pool(8) as p:\n",
    "        return np.mean(p.map(fn, range(len(df_cc))))"
   ]
  },
  {
   "cell_type": "code",
   "execution_count": 31,
   "metadata": {},
   "outputs": [
    {
     "data": {
      "text/plain": [
       "0.03151438624279137"
      ]
     },
     "execution_count": 31,
     "metadata": {},
     "output_type": "execute_result"
    }
   ],
   "source": [
    "h_ipw_var = minimize(r_parallel_res, 0.001).x\n",
    "\n",
    "h_ipw_var[0]"
   ]
  },
  {
   "cell_type": "code",
   "execution_count": 32,
   "metadata": {},
   "outputs": [
    {
     "name": "stderr",
     "output_type": "stream",
     "text": [
      "<ipython-input-32-059dc6e3b5f7>:13: UserWarning: color is redundantly defined by the 'color' keyword argument and the fmt string \"-g\" (-> color='g'). The keyword argument will take precedence.\n",
      "  ax.plot(np.linspace(2.6, 2.85, n),[sigma_mis_res(h_ipw_var,t,df_cc.x,df_cc.res,pi(df_cc.y,b0,b1),df_ones[0])**2 for t in np.linspace(2.6, 2.85, n)],'-g',color= 'red', lw=2)\n"
     ]
    },
    {
     "data": {
      "image/png": "[encoded data removed]",
      "text/plain": [
       "<Figure size 720x504 with 1 Axes>"
      ]
     },
     "metadata": {
      "needs_background": "light"
     },
     "output_type": "display_data"
    }
   ],
   "source": [
    "fig, ax = plt.subplots(1, 1,figsize=(10, 7))\n",
    "\n",
    "plt.plot(df['x'],df['res'],'o',mfc='none',color='black')\n",
    "\n",
    "plt.plot(df_cc['x'],df_cc['res'],'o',color='black')\n",
    "\n",
    "\n",
    "\n",
    "#Full\n",
    "ax.plot(np.linspace(2.6, 2.85, n),model_res.fit(np.linspace(2.6, 2.85, n))[0] ,color= 'blue', lw=2)\n",
    "\n",
    "#IPW\n",
    "ax.plot(np.linspace(2.6, 2.85, n),[sigma_mis_res(h_ipw_var,t,df_cc.x,df_cc.res,pi(df_cc.y,b0,b1),df_ones[0])**2 for t in np.linspace(2.6, 2.85, n)],'-g',color= 'red', lw=2)\n",
    "\n",
    "ax.set_ylim(0,0.005)\n",
    "\n",
    "plt.savefig(f'figures/Residual_Real_{size}.pdf',transparent=True)\n"
   ]
  },
  {
   "cell_type": "code",
   "execution_count": 33,
   "metadata": {},
   "outputs": [
    {
     "data": {
      "text/plain": [
       "array([0.03151439])"
      ]
     },
     "execution_count": 33,
     "metadata": {},
     "output_type": "execute_result"
    }
   ],
   "source": [
    "h_ipw_var"
   ]
  },
  {
   "cell_type": "code",
   "execution_count": 34,
   "metadata": {},
   "outputs": [
    {
     "data": {
      "text/plain": [
       "array([0.03151439])"
      ]
     },
     "execution_count": 34,
     "metadata": {},
     "output_type": "execute_result"
    }
   ],
   "source": [
    "h_ipw_var"
   ]
  },
  {
   "cell_type": "code",
   "execution_count": null,
   "metadata": {},
   "outputs": [],
   "source": []
  }
 ],
 "metadata": {
  "kernelspec": {
   "display_name": "Python 3",
   "language": "python",
   "name": "python3"
  },
  "language_info": {
   "codemirror_mode": {
    "name": "ipython",
    "version": 3
   },
   "file_extension": ".py",
   "mimetype": "text/x-python",
   "name": "python",
   "nbconvert_exporter": "python",
   "pygments_lexer": "ipython3",
   "version": "3.8.5"
  }
 },
 "nbformat": 4,
 "nbformat_minor": 4
}
