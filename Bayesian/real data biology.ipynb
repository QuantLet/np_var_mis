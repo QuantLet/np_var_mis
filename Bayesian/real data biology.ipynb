{
 "cells": [
  {
   "cell_type": "code",
   "execution_count": 1,
   "metadata": {},
   "outputs": [
    {
     "name": "stderr",
     "output_type": "stream",
     "text": [
      "/Users/lilimatic/opt/anaconda3/lib/python3.8/site-packages/pandas/core/computation/expressions.py:20: UserWarning: Pandas requires version '2.7.3' or newer of 'numexpr' (version '2.7.1' currently installed).\n",
      "  from pandas.core.computation.check import NUMEXPR_INSTALLED\n"
     ]
    }
   ],
   "source": [
    "import pandas as pd\n",
    "import matplotlib.pyplot as plt\n",
    "import numpy as np\n",
    "\n",
    "import statsmodels.nonparametric.api as nparam\n",
    "from statsmodels.nonparametric.kernel_regression import KernelReg\n",
    "\n",
    "from functions import *\n",
    "\n",
    "from scipy.optimize import minimize\n",
    "from multiprocess import Pool"
   ]
  },
  {
   "cell_type": "code",
   "execution_count": 2,
   "metadata": {},
   "outputs": [
    {
     "name": "stderr",
     "output_type": "stream",
     "text": [
      "/Users/lilimatic/opt/anaconda3/lib/python3.8/site-packages/openpyxl/worksheet/_reader.py:329: UserWarning: Unknown extension is not supported and will be removed\n",
      "  warn(msg)\n"
     ]
    }
   ],
   "source": [
    "data = pd.read_excel('data.xlsx')\n",
    "\n",
    "data = data.loc[(data['drug_name'] == 'Gemcitabine') & (data['cell_line'] == 'OCUBM')][['Drug_concentration (µM)',\n",
    "                                                                               'viability1', 'viability2', 'viability3', 'viability4', 'viability5','viability6']]\n",
    "X = np.log10(sum([data['Drug_concentration (µM)'].values.tolist()]*6,[]))\n",
    "y= sum([data.iloc[:,i].values.tolist() for i in range(1,7)],[])\n",
    "\n",
    "df = pd.DataFrame({'y':y,'x':X })\n",
    "\n",
    "df = df.sort_values(by=['y'])"
   ]
  },
  {
   "cell_type": "code",
   "execution_count": 3,
   "metadata": {},
   "outputs": [],
   "source": [
    "y = df.y\n",
    "X = df.x\n",
    "\n",
    "#b0=1, b1=1 90 % obs \n",
    "#b0=0, b=1 85 %\n",
    "b0 = 0\n",
    "b1 = 4"
   ]
  },
  {
   "cell_type": "code",
   "execution_count": 4,
   "metadata": {},
   "outputs": [
    {
     "data": {
      "text/plain": [
       "y    0.069340\n",
       "x   -5.346787\n",
       "dtype: float64"
      ]
     },
     "execution_count": 4,
     "metadata": {},
     "output_type": "execute_result"
    }
   ],
   "source": [
    "df.min()"
   ]
  },
  {
   "cell_type": "code",
   "execution_count": 5,
   "metadata": {},
   "outputs": [],
   "source": [
    "n = len(df)\n",
    "omega = bernoulli.rvs(pi(y,b0,b1), size=n)"
   ]
  },
  {
   "cell_type": "code",
   "execution_count": 6,
   "metadata": {},
   "outputs": [
    {
     "data": {
      "text/plain": [
       "0.3958333333333333"
      ]
     },
     "execution_count": 6,
     "metadata": {},
     "output_type": "execute_result"
    }
   ],
   "source": [
    "sum(omega)/len(df)"
   ]
  },
  {
   "cell_type": "code",
   "execution_count": 7,
   "metadata": {},
   "outputs": [],
   "source": [
    "df['omega'] = omega"
   ]
  },
  {
   "cell_type": "code",
   "execution_count": 8,
   "metadata": {},
   "outputs": [],
   "source": [
    "df_cc = df[df.omega==1]"
   ]
  },
  {
   "cell_type": "code",
   "execution_count": 9,
   "metadata": {},
   "outputs": [
    {
     "data": {
      "text/plain": [
       "y        0.069340\n",
       "x       -5.346787\n",
       "omega    1.000000\n",
       "dtype: float64"
      ]
     },
     "execution_count": 9,
     "metadata": {},
     "output_type": "execute_result"
    }
   ],
   "source": [
    "df_cc.min()"
   ]
  },
  {
   "cell_type": "code",
   "execution_count": 10,
   "metadata": {},
   "outputs": [],
   "source": [
    "model = KernelReg(endog=[df.y],exog=[df.x],reg_type='lc',var_type='c', bw='cv_ls')\n"
   ]
  },
  {
   "cell_type": "code",
   "execution_count": 11,
   "metadata": {},
   "outputs": [],
   "source": [
    "model = KernelReg(endog=[df.y],exog=[df.x],reg_type='lc',var_type='c', bw='cv_ls')\n",
    "\n",
    "model_cc = KernelReg(endog=[df_cc.y],exog=[df_cc.x],reg_type='lc',var_type='c', bw='cv_ls')\n"
   ]
  },
  {
   "cell_type": "code",
   "execution_count": 12,
   "metadata": {},
   "outputs": [
    {
     "data": {
      "text/plain": [
       "array([0.19538834])"
      ]
     },
     "execution_count": 12,
     "metadata": {},
     "output_type": "execute_result"
    }
   ],
   "source": [
    "model.bw"
   ]
  },
  {
   "cell_type": "code",
   "execution_count": 13,
   "metadata": {},
   "outputs": [],
   "source": [
    "def r_parallel(h):\n",
    "    #print(1)\n",
    "    def fn(j):\n",
    "        df1 = df.drop([j],axis=0)\n",
    "        y_hat = df.omega[j]*nw_mis(h,df.x[j],df1.x,df1.y,pi(df1.y,b0,b1),df1.omega)\n",
    "        return (df.omega[j]/pi(df.y[j],b0,b1))*(df.y[j]-y_hat)**2\n",
    "\n",
    "    with Pool(8) as p:\n",
    "        return np.mean(p.map(fn, range(len(df))))"
   ]
  },
  {
   "cell_type": "code",
   "execution_count": 14,
   "metadata": {},
   "outputs": [
    {
     "name": "stdout",
     "output_type": "stream",
     "text": [
      "CPU times: user 2.57 s, sys: 597 ms, total: 3.16 s\n",
      "Wall time: 3.24 s\n"
     ]
    }
   ],
   "source": [
    "%%time\n",
    "# r_parallel(0.1)\n",
    "h_ipw = minimize(r_parallel, 0.7).x"
   ]
  },
  {
   "cell_type": "code",
   "execution_count": 15,
   "metadata": {},
   "outputs": [],
   "source": [
    "h_df = pd.DataFrame({'$h_{ipw}$':h_ipw,'$h_{full}$': model.bw, '$h_{cc}$': model_cc.bw})"
   ]
  },
  {
   "cell_type": "code",
   "execution_count": 16,
   "metadata": {},
   "outputs": [
    {
     "data": {
      "text/html": [
       "<div>\n",
       "<style scoped>\n",
       "    .dataframe tbody tr th:only-of-type {\n",
       "        vertical-align: middle;\n",
       "    }\n",
       "\n",
       "    .dataframe tbody tr th {\n",
       "        vertical-align: top;\n",
       "    }\n",
       "\n",
       "    .dataframe thead th {\n",
       "        text-align: right;\n",
       "    }\n",
       "</style>\n",
       "<table border=\"1\" class=\"dataframe\">\n",
       "  <thead>\n",
       "    <tr style=\"text-align: right;\">\n",
       "      <th></th>\n",
       "      <th>$h_{ipw}$</th>\n",
       "      <th>$h_{full}$</th>\n",
       "      <th>$h_{cc}$</th>\n",
       "    </tr>\n",
       "  </thead>\n",
       "  <tbody>\n",
       "    <tr>\n",
       "      <th>0</th>\n",
       "      <td>-0.230018</td>\n",
       "      <td>0.195388</td>\n",
       "      <td>0.230003</td>\n",
       "    </tr>\n",
       "  </tbody>\n",
       "</table>\n",
       "</div>"
      ],
      "text/plain": [
       "   $h_{ipw}$  $h_{full}$  $h_{cc}$\n",
       "0  -0.230018    0.195388  0.230003"
      ]
     },
     "execution_count": 16,
     "metadata": {},
     "output_type": "execute_result"
    }
   ],
   "source": [
    "h_df"
   ]
  },
  {
   "cell_type": "code",
   "execution_count": 17,
   "metadata": {},
   "outputs": [
    {
     "data": {
      "text/plain": [
       "[<matplotlib.lines.Line2D at 0x7fa22c6dbfd0>]"
      ]
     },
     "execution_count": 17,
     "metadata": {},
     "output_type": "execute_result"
    },
    {
     "data": {
      "image/png": "[encoded data removed]",
      "text/plain": [
       "<Figure size 1440x720 with 1 Axes>"
      ]
     },
     "metadata": {
      "needs_background": "light"
     },
     "output_type": "display_data"
    }
   ],
   "source": [
    "fig, ax = plt.subplots(1, 1,figsize=(20, 10))\n",
    "\n",
    "plt.plot(df['x'],df['y'],'o',mfc='none',color='black')\n",
    "plt.plot(df_cc['x'],df_cc['y'],'o',color='black')\n",
    "\n",
    "\n",
    "#Full model \n",
    "ax.plot(np.linspace(-5.3, -2, n),model.fit(np.linspace(-5.3, -2, n))[0] ,color= 'black', lw=2)\n",
    "\n",
    "#CC estimator \n",
    "ax.plot(np.linspace(-5.3, -2, n),model_cc.fit(np.linspace(-5.3, -2, n))[0] ,color= 'blue', lw=2)\n",
    "\n",
    "#IPW estimator \n",
    "ax.plot(np.linspace(-5.3, -2, n),[nw_mis(h_ipw,t,X,y,pi(y,b0,b1),omega) for t in np.linspace(-5.3, -2, n)],color= 'red', lw=2)\n",
    "\n"
   ]
  },
  {
   "cell_type": "code",
   "execution_count": 18,
   "metadata": {},
   "outputs": [
    {
     "name": "stderr",
     "output_type": "stream",
     "text": [
      "<ipython-input-18-db51aa9c97c6>:3: SettingWithCopyWarning: \n",
      "A value is trying to be set on a copy of a slice from a DataFrame.\n",
      "Try using .loc[row_indexer,col_indexer] = value instead\n",
      "\n",
      "See the caveats in the documentation: https://pandas.pydata.org/pandas-docs/stable/user_guide/indexing.html#returning-a-view-versus-a-copy\n",
      "  df_cc['res_sqr'] = (df_cc.y - model_cc.fit(df_cc.x)[0])**2\n"
     ]
    }
   ],
   "source": [
    "df['res_sqr'] = (df.y -  model.fit(df.x)[0])**2\n",
    "\n",
    "df_cc['res_sqr'] = (df_cc.y - model_cc.fit(df_cc.x)[0])**2"
   ]
  },
  {
   "cell_type": "code",
   "execution_count": 19,
   "metadata": {},
   "outputs": [],
   "source": [
    "#Full residual-based\n",
    "model_var = KernelReg(endog=[df.res_sqr],exog=[df.x],reg_type='lc',var_type='c', bw='cv_ls')\n",
    "\n",
    "model_var_cc = KernelReg(endog=[df_cc.res_sqr],exog=[df_cc.x],reg_type='lc',var_type='c', bw='cv_ls')\n",
    "\n",
    "#Direct method \n",
    "h_fix = 0.8\n",
    "\n",
    "model_dir_vn = KernelReg(endog=[(df.y)**2],exog=[df.x],reg_type='lc',var_type='c', bw='{h}') \n",
    "model_dir_mn = KernelReg(endog=[df.y],exog=[df.x],reg_type='lc',var_type='c', bw='{h}') \n",
    "\n",
    "#Differences \n",
    "\n",
    "#Residual"
   ]
  },
  {
   "cell_type": "code",
   "execution_count": 20,
   "metadata": {},
   "outputs": [],
   "source": [
    "df_diff = df[['x','y']]"
   ]
  },
  {
   "cell_type": "code",
   "execution_count": 21,
   "metadata": {},
   "outputs": [
    {
     "name": "stderr",
     "output_type": "stream",
     "text": [
      "<ipython-input-21-369addfdb23c>:1: SettingWithCopyWarning: \n",
      "A value is trying to be set on a copy of a slice from a DataFrame.\n",
      "Try using .loc[row_indexer,col_indexer] = value instead\n",
      "\n",
      "See the caveats in the documentation: https://pandas.pydata.org/pandas-docs/stable/user_guide/indexing.html#returning-a-view-versus-a-copy\n",
      "  df_diff['y'] =df_diff[['y']].diff().apply(lambda y:(y**2)/2)\n"
     ]
    }
   ],
   "source": [
    "df_diff['y'] =df_diff[['y']].diff().apply(lambda y:(y**2)/2)"
   ]
  },
  {
   "cell_type": "code",
   "execution_count": 22,
   "metadata": {},
   "outputs": [],
   "source": [
    "model_diff = KernelReg(endog=[df_diff.y],exog=[df_diff.x],reg_type='ll',var_type='c', bw='{h}') "
   ]
  },
  {
   "cell_type": "code",
   "execution_count": 23,
   "metadata": {},
   "outputs": [],
   "source": [
    "model_dir_mn = KernelReg(endog=[df_diff.y],exog=[df_diff.x],reg_type='ll',var_type='c', bw='{h}') "
   ]
  },
  {
   "cell_type": "code",
   "execution_count": 24,
   "metadata": {},
   "outputs": [],
   "source": [
    "def r_parallel_res(h):\n",
    "    #print(1)\n",
    "    def fn(j):\n",
    "        df1 = df.drop([j],axis=0)\n",
    "        y_hat = df.res_sqr[j]*nw_mis(h,df.x[j],df1.x,df1.res_sqr,pi(df1.y,b0,b1),df1.omega)\n",
    "        #return (df.omega[j]/pi(df.res_sqr[j],b0,b1))*(df.res_sqr[j]-y_hat)**2\n",
    "        return (df.omega[j]/pi(df.res_sqr[j],b0,b1))*(df.res_sqr[j]-y_hat)**2\n",
    "\n",
    "    with Pool(8) as p:\n",
    "        return np.mean(p.map(fn, range(len(df))))"
   ]
  },
  {
   "cell_type": "code",
   "execution_count": 25,
   "metadata": {},
   "outputs": [
    {
     "name": "stdout",
     "output_type": "stream",
     "text": [
      "CPU times: user 3.74 s, sys: 825 ms, total: 4.56 s\n",
      "Wall time: 4.75 s\n"
     ]
    }
   ],
   "source": [
    "%%time\n",
    "# r_parallel(0.1)\n",
    "h_ipw_var = minimize(r_parallel, 0.1).x"
   ]
  },
  {
   "cell_type": "code",
   "execution_count": 26,
   "metadata": {},
   "outputs": [
    {
     "data": {
      "text/plain": [
       "array([0.23002697])"
      ]
     },
     "execution_count": 26,
     "metadata": {},
     "output_type": "execute_result"
    }
   ],
   "source": [
    "h_ipw_var"
   ]
  },
  {
   "cell_type": "code",
   "execution_count": 29,
   "metadata": {},
   "outputs": [
    {
     "name": "stderr",
     "output_type": "stream",
     "text": [
      "<ipython-input-29-e3dfbd3ef0fb>:13: UserWarning: color is redundantly defined by the 'color' keyword argument and the fmt string \"-g\" (-> color='g'). The keyword argument will take precedence.\n",
      "  ax.plot(np.linspace(-5.3, -2, n),[sigma_mis_res(model_var.bw,t,X,df.res_sqr,pi(y,b0,b1),omega)**2 for t in np.linspace(-5.3, -2, n)],'-g',color= 'red', lw=2)\n"
     ]
    },
    {
     "data": {
      "text/plain": [
       "(0.0, 0.0175)"
      ]
     },
     "execution_count": 29,
     "metadata": {},
     "output_type": "execute_result"
    },
    {
     "data": {
      "image/png": "[encoded data removed]",
      "text/plain": [
       "<Figure size 1080x720 with 1 Axes>"
      ]
     },
     "metadata": {
      "needs_background": "light"
     },
     "output_type": "display_data"
    }
   ],
   "source": [
    "fig, ax = plt.subplots(1, 1,figsize=(15, 10))\n",
    "\n",
    "plt.plot(df['x'],df['res_sqr'],'o',mfc='none',color='black')\n",
    "\n",
    "plt.plot(df_cc['x'],df_cc['res_sqr'],'o',color='grey')\n",
    "\n",
    "#Full model \n",
    "#Direct \n",
    "ax.plot(np.linspace(-5.3, -2, n),model_var.fit(np.linspace(-5.3, -2, n))[0] ,color= 'black', lw=2)\n",
    "\n",
    "\n",
    "#IPW\n",
    "ax.plot(np.linspace(-5.3, -2, n),[sigma_mis_res(model_var.bw,t,X,df.res_sqr,pi(y,b0,b1),omega)**2 for t in np.linspace(-5.3, -2, n)],'-g',color= 'red', lw=2)\n",
    "\n",
    "#Complete-case \n",
    "ax.plot(np.linspace(-5.3, -2, n),model_var_cc.fit(np.linspace(-5.3, -2, n))[0] ,color= 'blue', lw=1,linestyle='dashed')\n",
    "\n",
    "ax.set_ylim(0,0.0175)\n"
   ]
  },
  {
   "cell_type": "code",
   "execution_count": null,
   "metadata": {},
   "outputs": [],
   "source": []
  },
  {
   "cell_type": "code",
   "execution_count": null,
   "metadata": {},
   "outputs": [],
   "source": []
  },
  {
   "cell_type": "code",
   "execution_count": null,
   "metadata": {},
   "outputs": [],
   "source": []
  }
 ],
 "metadata": {
  "kernelspec": {
   "display_name": "Python 3",
   "language": "python",
   "name": "python3"
  },
  "language_info": {
   "codemirror_mode": {
    "name": "ipython",
    "version": 3
   },
   "file_extension": ".py",
   "mimetype": "text/x-python",
   "name": "python",
   "nbconvert_exporter": "python",
   "pygments_lexer": "ipython3",
   "version": "3.8.5"
  }
 },
 "nbformat": 4,
 "nbformat_minor": 4
}
