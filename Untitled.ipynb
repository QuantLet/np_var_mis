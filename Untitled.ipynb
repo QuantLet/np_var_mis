{
 "cells": [
  {
   "cell_type": "code",
   "execution_count": 1,
   "metadata": {},
   "outputs": [
    {
     "name": "stderr",
     "output_type": "stream",
     "text": [
      "/Users/lilimatic/opt/anaconda3/lib/python3.8/site-packages/pandas/core/computation/expressions.py:20: UserWarning: Pandas requires version '2.7.3' or newer of 'numexpr' (version '2.7.1' currently installed).\n",
      "  from pandas.core.computation.check import NUMEXPR_INSTALLED\n"
     ]
    }
   ],
   "source": [
    "import matplotlib.pyplot as plt\n",
    "import pandas as pd\n",
    "\n",
    "from functions import *\n",
    "\n",
    "import statsmodels.nonparametric.api as nparam\n",
    "from statsmodels.nonparametric.kernel_regression import KernelReg\n",
    "\n",
    "from scipy.optimize import minimize\n",
    "from multiprocess import Pool"
   ]
  },
  {
   "cell_type": "markdown",
   "metadata": {},
   "source": [
    "Let $X \\sim U[-2,2]$ and \n",
    "\n",
    "\\begin{equation}\n",
    "Y_i=a\\left\\{X_i+2 \\exp \\left(-16 X_i^2\\right)\\right\\}+\\sigma\\left(X_i\\right) \\varepsilon_i\n",
    "\\end{equation}\n",
    "\n",
    "where $\\varepsilon \\sim \\mathcal{N} \\left(0,1\\right)$.\n",
    "\n",
    "The variance function is described by\n",
    "\n",
    "\\begin{equation}\n",
    "\\sigma \\left(x \\right) = 0.4 \\exp \\left(-2 x^2\\right)+0 \\cdot 2\n",
    "\\end{equation}\n",
    "\n",
    "\n",
    "\n",
    "We estimate the relationship with the Nadaraya-Watson estimator\n",
    "\n",
    "\\begin{equation}\n",
    "m_{n} \\left(x\\right) = \\frac{\n",
    "\\sum_{i=1}^{n} Y_{i} K \\left(\n",
    "    \\frac{x-X_{i} }{h}\n",
    "    \\right)\n",
    "}{\\sum_{i=1}^{n} K \\left(\n",
    "    \\frac{x-X_{i} }{h}\n",
    "    \\right)}.\n",
    "\\end{equation}\n",
    "\n",
    "We assume that the predictor $X$ is missing at random and is observed with the probability of observation\n",
    "\\begin{equation}\n",
    "\\pi \\left(Y_i\\right) = \\frac{1}{1+\\exp^{-\\left(\\beta_{0} +\\beta_{1}Y_{i}\\right)}}\n",
    "\\end{equation}\n",
    "\n",
    "that is modelled with the logit function.\n",
    "\n",
    "If $\\pi \\left(y \\right)$ is known, the Horwitz-Thompson estimator is \n",
    "\\begin{equation}\n",
    "m_{n} \\left(x\\right) = \\frac{\n",
    "\\sum_{i=1}^{n} \n",
    "\\frac{\\Omega_{i}Y_{i}}{\n",
    "\\pi \\left(Y_{i} \\right)\n",
    "}\n",
    " K \\left(\n",
    "    \\frac{x-X_{i} }{h}\n",
    "    \\right)\n",
    "}{\\sum_{i=1}^{n} \n",
    "\\frac{\\Omega_{i}}{\n",
    "\\pi \\left(Y_{i} \\right)\n",
    "}\n",
    "K \\left(\n",
    "    \\frac{x-X_{i} }{h}\n",
    "    \\right)},\n",
    "\\end{equation}\n",
    "\n",
    "If  $\\pi \\left(y \\right)$ is unknown, we estimate it with m"
   ]
  },
  {
   "cell_type": "code",
   "execution_count": 13,
   "metadata": {},
   "outputs": [],
   "source": [
    "#Set params\n",
    "\n",
    "n = 10000\n",
    "\n",
    "#Data generation \n",
    "X = np.random.uniform(-2,2,n)\n",
    "X.sort()\n",
    "\n",
    "eps = np.random.normal(0, 1,  n)"
   ]
  },
  {
   "cell_type": "code",
   "execution_count": 14,
   "metadata": {},
   "outputs": [],
   "source": [
    "target = lambda a: fan(X,n,a,eps)\n",
    "\n",
    "#Missing values \n",
    "\n",
    "b0 = -0.5\n",
    "b1 =  -0.5"
   ]
  },
  {
   "cell_type": "code",
   "execution_count": 15,
   "metadata": {},
   "outputs": [],
   "source": [
    "a =0.5\n",
    "\n",
    "y = target(a)"
   ]
  },
  {
   "cell_type": "code",
   "execution_count": 16,
   "metadata": {},
   "outputs": [],
   "source": [
    "omega = bernoulli.rvs(pi(y,b0,b1), size=n)\n",
    "\n",
    "df = pd.DataFrame({'x':X,'y':y,'omega':omega})\n",
    "\n",
    "#ipw\n",
    "\n",
    "df['y_pi'] =  df['y'].apply(lambda t: t/pi(t,b0,b1))\n",
    "\n",
    "df['var'] = df['x'].apply(lambda t: sigma_reg(t,len(df)))\n",
    "\n",
    "df_cc = df.loc[df['omega']==1].reset_index(drop=True)"
   ]
  },
  {
   "cell_type": "code",
   "execution_count": 17,
   "metadata": {},
   "outputs": [
    {
     "data": {
      "text/plain": [
       "38"
      ]
     },
     "execution_count": 17,
     "metadata": {},
     "output_type": "execute_result"
    }
   ],
   "source": [
    "size = round(len(df_cc)*100/len(df))\n",
    "size"
   ]
  },
  {
   "cell_type": "code",
   "execution_count": 18,
   "metadata": {},
   "outputs": [],
   "source": [
    "#Model calibration\n",
    "\n",
    "model = KernelReg(endog=[df.y],exog=[df.x],reg_type='lc',var_type='c', bw='cv_ls')\n",
    "\n",
    "model_cc = KernelReg(endog=[df_cc.y],exog=[df_cc.x],reg_type='lc',var_type='c', bw='cv_ls')"
   ]
  },
  {
   "cell_type": "code",
   "execution_count": 19,
   "metadata": {},
   "outputs": [],
   "source": [
    "def r_parallel_ipw(h):\n",
    "    #print(1)\n",
    "    def fn(j):\n",
    "        df1 = df.drop([j],axis=0)\n",
    "        y_hat = df.omega[j]*nw_mis(h,df.x[j],df1.x,df1.y,pi(df1.y,b0,b1),df1.omega)\n",
    "        return (df.omega[j]/pi(df.y[j],b0,b1))*(df.y[j]-y_hat)**2 #/pi(df.y[j],b0,b1)\n",
    "\n",
    "    with Pool(8) as p:\n",
    "        return np.mean(p.map(fn, range(len(df))))\n",
    "    \n",
    "def r_parallel_cc(h):\n",
    "    #print(1)\n",
    "    def fn(j):\n",
    "        df1 = df.drop([j],axis=0)\n",
    "        y_hat = df.omega[j]*nw_mis(h,df.x[j],df1.x,df1.y,pi(df1.y,b0,b1),df1.omega)\n",
    "        return df.omega[j]*(df.y[j]-y_hat)**2 #/pi(df.y[j],b0,b1)\n",
    "\n",
    "    with Pool(8) as p:\n",
    "        return np.mean(p.map(fn, range(len(df))))"
   ]
  },
  {
   "cell_type": "code",
   "execution_count": null,
   "metadata": {},
   "outputs": [],
   "source": [
    "%%time\n",
    "# r_parallel(0.1)\n",
    "h_ipw_ipw  = minimize(r_parallel_ipw, 0.1).x\n",
    "\n",
    "h_ipw_cc = minimize(r_parallel_cc, 0.1).x"
   ]
  },
  {
   "cell_type": "code",
   "execution_count": null,
   "metadata": {},
   "outputs": [],
   "source": [
    "fig, ax = plt.subplots(1, 1,figsize=(10, 8))\n",
    "#ax.plot(df['x'], df['y'], 'o', color='grey',markersize=2)\n",
    "\n",
    "#First plot \n",
    "\n",
    "#Complete-cases\n",
    "ax.plot(df_cc['x'], df_cc['y'], 'o', color='grey',markersize=3)\n",
    "#Truth\n",
    "ax.plot(np.linspace(-2, 2, n),model.fit(np.linspace(-2, 2, n))[0] ,color= 'black', lw=2)\n",
    "#CC estimator \n",
    "#ax.plot(np.linspace(-2, 2, n),model_cc.fit(np.linspace(-2, 2, n))[0] ,color= 'red', lw=2)\n",
    "#CV bandwidth \n",
    "ax.plot(np.linspace(-2, 2, n),[nw_mis(h_ipw_cc,t,X,y,pi(y,b0,b1),omega) for t in np.linspace(-2, 2, n)],color= 'orange', lw=2)\n",
    "\n",
    "ax.plot(np.linspace(-2, 2, n),[nw_mis(h_ipw_ipw,t,X,y,pi(y,b0,b1),omega) for t in np.linspace(-2, 2, n)],color= 'blue', lw=2)\n",
    "\n",
    "\n",
    "ax.set_ylim(-1,1.2)\n",
    "\n",
    "plt.savefig(f'Regression_{a}_{size}.pdf',transparent=True)\n"
   ]
  },
  {
   "cell_type": "code",
   "execution_count": null,
   "metadata": {},
   "outputs": [],
   "source": []
  }
 ],
 "metadata": {
  "kernelspec": {
   "display_name": "Python 3",
   "language": "python",
   "name": "python3"
  },
  "language_info": {
   "codemirror_mode": {
    "name": "ipython",
    "version": 3
   },
   "file_extension": ".py",
   "mimetype": "text/x-python",
   "name": "python",
   "nbconvert_exporter": "python",
   "pygments_lexer": "ipython3",
   "version": "3.8.5"
  }
 },
 "nbformat": 4,
 "nbformat_minor": 4
}
