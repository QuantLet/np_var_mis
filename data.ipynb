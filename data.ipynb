{
 "cells": [
  {
   "cell_type": "code",
   "execution_count": 1,
   "metadata": {},
   "outputs": [],
   "source": [
    "import pandas as pd\n",
    "import matplotlib.pyplot as plt\n",
    "from functions import *"
   ]
  },
  {
   "cell_type": "code",
   "execution_count": 2,
   "metadata": {},
   "outputs": [],
   "source": [
    "data = pd.read_excel('data.xlsx')"
   ]
  },
  {
   "cell_type": "code",
   "execution_count": 3,
   "metadata": {},
   "outputs": [
    {
     "data": {
      "text/plain": [
       "array(['5-FU', 'ABT-888', 'AZD1775', 'BEZ-235', 'Bortezomib',\n",
       "       'Carboplatin', 'Cyclophosphamide', 'Dasatinib', 'Dexamethasone',\n",
       "       'Dinaciclib', 'Doxorubicin', 'Erlotinib', 'Etoposide',\n",
       "       'geldanamycin', 'Gemcitabine', 'L778123', 'Lapatinib', 'Metformin',\n",
       "       'Methotrexate', 'Mitomycine', 'MK-2206', 'MK-4541', 'MK-4827',\n",
       "       'MK-5108', 'MK-8669', 'MK-8776', 'MRK-003', 'Oxaliplatin',\n",
       "       'Paclitaxel', 'PD325901', 'SN-38', 'Sorafenib', 'Sunitinib',\n",
       "       'Temozolomide', 'Topotecan', 'Vinblastine', 'Vinorelbine',\n",
       "       'Zolinza'], dtype=object)"
      ]
     },
     "execution_count": 3,
     "metadata": {},
     "output_type": "execute_result"
    }
   ],
   "source": [
    "data['drug_name'].unique()"
   ]
  },
  {
   "cell_type": "code",
   "execution_count": 4,
   "metadata": {},
   "outputs": [],
   "source": [
    "#for x in data['cell_line'].unique():\n",
    "    #if len(data.loc[(data['drug_name'] == 'Gemcitabine') & (data['cell_line'] == x)]) == 8:\n",
    "        #print(data.loc[(data['drug_name'] == 'Gemcitabine') & (data['cell_line'] == x)][['Drug_concentration (µM)',\n",
    "                                                               #                'viability1', 'viability2', 'viability3', 'viability4', 'viability5','viability6']].isnull().sum().sum())\n",
    "    "
   ]
  },
  {
   "cell_type": "code",
   "execution_count": 5,
   "metadata": {},
   "outputs": [
    {
     "data": {
      "text/html": [
       "<div>\n",
       "<style scoped>\n",
       "    .dataframe tbody tr th:only-of-type {\n",
       "        vertical-align: middle;\n",
       "    }\n",
       "\n",
       "    .dataframe tbody tr th {\n",
       "        vertical-align: top;\n",
       "    }\n",
       "\n",
       "    .dataframe thead th {\n",
       "        text-align: right;\n",
       "    }\n",
       "</style>\n",
       "<table border=\"1\" class=\"dataframe\">\n",
       "  <thead>\n",
       "    <tr style=\"text-align: right;\">\n",
       "      <th></th>\n",
       "      <th>Drug_concentration (µM)</th>\n",
       "      <th>viability1</th>\n",
       "      <th>viability2</th>\n",
       "      <th>viability3</th>\n",
       "      <th>viability4</th>\n",
       "      <th>viability5</th>\n",
       "      <th>viability6</th>\n",
       "    </tr>\n",
       "  </thead>\n",
       "  <tbody>\n",
       "    <tr>\n",
       "      <th>0</th>\n",
       "      <td>0.000005</td>\n",
       "      <td>0.90682</td>\n",
       "      <td>1.05148</td>\n",
       "      <td>0.92679</td>\n",
       "      <td>1.08383</td>\n",
       "      <td>1.15320</td>\n",
       "      <td>1.06123</td>\n",
       "    </tr>\n",
       "    <tr>\n",
       "      <th>1</th>\n",
       "      <td>0.000014</td>\n",
       "      <td>0.93563</td>\n",
       "      <td>0.97162</td>\n",
       "      <td>0.95945</td>\n",
       "      <td>1.00628</td>\n",
       "      <td>1.11447</td>\n",
       "      <td>0.94414</td>\n",
       "    </tr>\n",
       "    <tr>\n",
       "      <th>2</th>\n",
       "      <td>0.000040</td>\n",
       "      <td>0.86798</td>\n",
       "      <td>0.89906</td>\n",
       "      <td>0.93613</td>\n",
       "      <td>1.09654</td>\n",
       "      <td>0.94527</td>\n",
       "      <td>0.97272</td>\n",
       "    </tr>\n",
       "    <tr>\n",
       "      <th>3</th>\n",
       "      <td>0.000120</td>\n",
       "      <td>0.96033</td>\n",
       "      <td>0.86525</td>\n",
       "      <td>0.97539</td>\n",
       "      <td>1.01745</td>\n",
       "      <td>1.08319</td>\n",
       "      <td>0.98214</td>\n",
       "    </tr>\n",
       "    <tr>\n",
       "      <th>4</th>\n",
       "      <td>0.000370</td>\n",
       "      <td>1.12211</td>\n",
       "      <td>1.02707</td>\n",
       "      <td>1.17835</td>\n",
       "      <td>0.96449</td>\n",
       "      <td>1.07197</td>\n",
       "      <td>1.06006</td>\n",
       "    </tr>\n",
       "    <tr>\n",
       "      <th>5</th>\n",
       "      <td>0.001100</td>\n",
       "      <td>0.91735</td>\n",
       "      <td>0.65056</td>\n",
       "      <td>0.85712</td>\n",
       "      <td>0.92735</td>\n",
       "      <td>0.90332</td>\n",
       "      <td>0.75801</td>\n",
       "    </tr>\n",
       "    <tr>\n",
       "      <th>6</th>\n",
       "      <td>0.003400</td>\n",
       "      <td>0.26267</td>\n",
       "      <td>0.27456</td>\n",
       "      <td>0.29037</td>\n",
       "      <td>0.23003</td>\n",
       "      <td>0.37493</td>\n",
       "      <td>0.31472</td>\n",
       "    </tr>\n",
       "    <tr>\n",
       "      <th>7</th>\n",
       "      <td>0.010000</td>\n",
       "      <td>0.10191</td>\n",
       "      <td>0.08572</td>\n",
       "      <td>0.10203</td>\n",
       "      <td>0.06934</td>\n",
       "      <td>0.10010</td>\n",
       "      <td>0.08854</td>\n",
       "    </tr>\n",
       "  </tbody>\n",
       "</table>\n",
       "</div>"
      ],
      "text/plain": [
       "   Drug_concentration (µM)  viability1  viability2  viability3  viability4  \\\n",
       "0                 0.000005     0.90682     1.05148     0.92679     1.08383   \n",
       "1                 0.000014     0.93563     0.97162     0.95945     1.00628   \n",
       "2                 0.000040     0.86798     0.89906     0.93613     1.09654   \n",
       "3                 0.000120     0.96033     0.86525     0.97539     1.01745   \n",
       "4                 0.000370     1.12211     1.02707     1.17835     0.96449   \n",
       "5                 0.001100     0.91735     0.65056     0.85712     0.92735   \n",
       "6                 0.003400     0.26267     0.27456     0.29037     0.23003   \n",
       "7                 0.010000     0.10191     0.08572     0.10203     0.06934   \n",
       "\n",
       "   viability5  viability6  \n",
       "0     1.15320     1.06123  \n",
       "1     1.11447     0.94414  \n",
       "2     0.94527     0.97272  \n",
       "3     1.08319     0.98214  \n",
       "4     1.07197     1.06006  \n",
       "5     0.90332     0.75801  \n",
       "6     0.37493     0.31472  \n",
       "7     0.10010     0.08854  "
      ]
     },
     "execution_count": 5,
     "metadata": {},
     "output_type": "execute_result"
    }
   ],
   "source": [
    "#\n",
    "\n",
    "data = data.loc[(data['drug_name'] == 'Gemcitabine') & (data['cell_line'] == 'OCUBM')][['Drug_concentration (µM)',\n",
    "                                                                               'viability1', 'viability2', 'viability3', 'viability4', 'viability5','viability6']]\n",
    "\n",
    "data.reset_index(drop=True)"
   ]
  },
  {
   "cell_type": "code",
   "execution_count": 6,
   "metadata": {},
   "outputs": [],
   "source": [
    "X = np.log10(sum([data['Drug_concentration (µM)'].values.tolist()]*6,[]))\n",
    "y= sum([data.iloc[:,i].values.tolist() for i in range(1,7)],[])"
   ]
  },
  {
   "cell_type": "code",
   "execution_count": 7,
   "metadata": {},
   "outputs": [],
   "source": [
    "df = pd.DataFrame({'y':y,'X':X })"
   ]
  },
  {
   "cell_type": "code",
   "execution_count": 8,
   "metadata": {},
   "outputs": [],
   "source": [
    "y = df.y\n",
    "X= df.X"
   ]
  },
  {
   "cell_type": "code",
   "execution_count": 9,
   "metadata": {},
   "outputs": [],
   "source": [
    "n = len(df)\n",
    "h=0.15\n",
    "\n"
   ]
  },
  {
   "cell_type": "code",
   "execution_count": 11,
   "metadata": {},
   "outputs": [],
   "source": [
    "random.seed(240)\n",
    "\n",
    "omega = bernoulli.rvs(pi(y,1,1), size=n)\n",
    "\n",
    "pi_hat = [pi_hat(h,z,y,pi(y,1,1),omega) for z in np.linspace(-5.5, -2, n)]\n"
   ]
  },
  {
   "cell_type": "code",
   "execution_count": 12,
   "metadata": {},
   "outputs": [
    {
     "data": {
      "text/plain": [
       "[<matplotlib.lines.Line2D at 0x7f7bc2d9eee0>]"
      ]
     },
     "execution_count": 12,
     "metadata": {},
     "output_type": "execute_result"
    },
    {
     "data": {
      "image/png": "[encoded data removed]",
      "text/plain": [
       "<Figure size 432x288 with 1 Axes>"
      ]
     },
     "metadata": {
      "needs_background": "light"
     },
     "output_type": "display_data"
    }
   ],
   "source": [
    "fig, ax = plt.subplots(1, 1)\n",
    "ax.plot(X, y, 'o', color='grey',markersize=3)\n",
    "#NW\n",
    "ax.plot(np.linspace(-5.3, -2, n),[nw(h,t,X,y) for t in np.linspace(-5.3, -2,n)],color= 'black', lw=2)\n",
    "\n",
    "#HT NW\n",
    "ax.plot(np.linspace(-5.3, -2, n),[nw_mis(h,t,X,y,pi(y,1,1),omega) for t in np.linspace(-5.3, -2, n)],'-g',color= 'blue', lw=2)\n",
    "#\n",
    "ax.plot(np.linspace(-5.3, -2, n),[nw_mis(h,t,X,y,pi_hat,omega) for t in np.linspace(-5.3, -2, n)],'-g',color= 'red', lw=2)"
   ]
  },
  {
   "cell_type": "code",
   "execution_count": 13,
   "metadata": {},
   "outputs": [],
   "source": [
    "#Variance estimation \n",
    "\n",
    "m_hat_nw = [nw(h,t,X,y) for t in X ]\n",
    "\n",
    "m_hat_hw = [nw_mis(h,t,X,y,pi(y,1,1),omega) for t in X ]\n",
    "\n",
    "m_hat_hw_est = [nw_mis(h,t,X,y,pi_hat,omega) for t in X]\n",
    "\n",
    "#Residual estimates \n",
    "\n",
    "r_hat = (y-m_hat_nw)**2\n",
    "\n",
    "r_hat_hw = (y-m_hat_hw)**2\n",
    "\n",
    "r_hat_hw_est = (y-m_hat_hw_est)**2\n"
   ]
  },
  {
   "cell_type": "code",
   "execution_count": 14,
   "metadata": {},
   "outputs": [],
   "source": [
    "diff = []\n",
    "for i in range(1,len(y)):\n",
    "        diff.append(((y[i-1]-y[i])**2)/2)"
   ]
  },
  {
   "cell_type": "code",
   "execution_count": 38,
   "metadata": {},
   "outputs": [
    {
     "data": {
      "text/plain": [
       "[]"
      ]
     },
     "execution_count": 38,
     "metadata": {},
     "output_type": "execute_result"
    },
    {
     "data": {
      "image/png": "[encoded data removed]",
      "text/plain": [
       "<Figure size 432x288 with 1 Axes>"
      ]
     },
     "metadata": {
      "needs_background": "light"
     },
     "output_type": "display_data"
    }
   ],
   "source": [
    "h1 = 0.2\n",
    "h2 = h1 \n",
    "\n",
    "fig, ax = plt.subplots(1, 1)\n",
    "ax.plot(X,r_hat,'o',color='grey',markersize=3)\n",
    "ax.plot(np.linspace(-5.3, -2,  n),[sigma_res(h1,t,X,r_hat)**2 for t in np.linspace(-5.3, -2, n)],color= 'black', lw=1)\n",
    "\n",
    "ax.plot(np.linspace(-5.3, -2,  n),[sigma_mis_res(h2,t,X,r_hat_hw,pi(y,1,1),omega)**2 for t in np.linspace( -5.3, -2, n)],'-g',color= 'blue', lw=1)\n",
    "ax.plot(np.linspace(-5.3, -2,  n),[sigma_mis_res(h2,t,X,r_hat_hw_est,pi_hat,omega)**2 for t in np.linspace( -5.3, -2, n)],'-g',color= 'red', lw=1)\n",
    "\n",
    "ax.set_ylim(0,0.0175)\n",
    "\n",
    "ax.plot()\n",
    "\n"
   ]
  },
  {
   "cell_type": "code",
   "execution_count": 59,
   "metadata": {},
   "outputs": [
    {
     "data": {
      "text/plain": [
       "[]"
      ]
     },
     "execution_count": 59,
     "metadata": {},
     "output_type": "execute_result"
    },
    {
     "data": {
      "image/png": "[encoded data removed]",
      "text/plain": [
       "<Figure size 432x288 with 1 Axes>"
      ]
     },
     "metadata": {
      "needs_background": "light"
     },
     "output_type": "display_data"
    }
   ],
   "source": [
    "#Sehr hohe Bandweite um sich anzunähern\n",
    "\n",
    "\n",
    "\n",
    "fig, ax = plt.subplots(1, 1)\n",
    "ax.plot(X,r_hat,'o',color='grey',markersize=3)\n",
    "ax.plot(np.linspace(-5.3, -2,  n),[sigma_res(h1,t,X,r_hat)**2 for t in np.linspace(-5.3, -2, n)],color= 'black', lw=1)\n",
    "\n",
    "\n",
    "ax.plot(np.linspace(-5.3, -2, n), [nw(h,t,X[:(len(X)-1)],diff)**2 for t in np.linspace(-5.3, -2, n)],'-g',color= 'green', lw=1)\n",
    "\n",
    "#Ab Bandweite 4 annähern\n",
    "ax.plot(np.linspace(-5.3, -2, n),[nw_mis(h,t,X[:(len(X)-1)],diff,pi_hat[:(len(pi_hat)-1)],omega[:(len(omega)-1)])**2 for t in np.linspace(-5.3, -2, n)],'-g',color= 'red', lw=1)\n",
    "\n",
    "#x.plot(np.linspace(-5.3, -2,  n),[diff_vol_mis(2.5,t,X,y,pi(y,1,1),omega,n) for t in np.linspace(-5.3, -2, n)],'-g',color= 'grey', lw=3)##\n",
    "#ax.set_ylim(0,0.0175)\n",
    "\n",
    "\n",
    "ax.plot()"
   ]
  },
  {
   "cell_type": "code",
   "execution_count": 18,
   "metadata": {},
   "outputs": [
    {
     "data": {
      "text/plain": [
       "<matplotlib.collections.PathCollection at 0x7f7bc25c8070>"
      ]
     },
     "execution_count": 18,
     "metadata": {},
     "output_type": "execute_result"
    },
    {
     "data": {
      "image/png": "[encoded data removed]",
      "text/plain": [
       "<Figure size 432x288 with 1 Axes>"
      ]
     },
     "metadata": {
      "needs_background": "light"
     },
     "output_type": "display_data"
    }
   ],
   "source": [
    "plt.scatter(X[:(len(X)-1)],diff)"
   ]
  },
  {
   "cell_type": "code",
   "execution_count": null,
   "metadata": {},
   "outputs": [],
   "source": []
  }
 ],
 "metadata": {
  "kernelspec": {
   "display_name": "Python 3",
   "language": "python",
   "name": "python3"
  },
  "language_info": {
   "codemirror_mode": {
    "name": "ipython",
    "version": 3
   },
   "file_extension": ".py",
   "mimetype": "text/x-python",
   "name": "python",
   "nbconvert_exporter": "python",
   "pygments_lexer": "ipython3",
   "version": "3.8.5"
  }
 },
 "nbformat": 4,
 "nbformat_minor": 4
}
