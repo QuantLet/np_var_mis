{
 "cells": [
  {
   "cell_type": "code",
   "execution_count": 5,
   "metadata": {},
   "outputs": [],
   "source": [
    "import pandas as pd \n",
    "import numpy as np\n",
    "\n",
    "from functions import *\n",
    "\n",
    "import statsmodels.nonparametric.api as nparam\n",
    "from statsmodels.nonparametric.kernel_regression import KernelReg\n",
    "\n",
    "from scipy.optimize import minimize\n",
    "from multiprocess import Pool\n",
    "\n",
    "import matplotlib.pyplot as plt\n"
   ]
  },
  {
   "cell_type": "markdown",
   "metadata": {},
   "source": [
    "## Variance estimation \n",
    "\n",
    "Let $X \\sim U[-2,2]$ and \n",
    "\n",
    "\\begin{equation}\n",
    "Y_i=a\\left\\{X_i+2 \\exp \\left(-16 X_i^2\\right)\\right\\}+\\sigma\\left(X_i\\right) \\varepsilon_i\n",
    "\\end{equation}\n",
    "\n",
    "where $\\varepsilon \\sim \\mathcal{N} \\left(0,1\\right)$. The variance function is described by\n",
    "\n",
    "\\begin{equation}\n",
    "\\sigma \\left(x \\right) = 0.4 \\exp \\left(-2 x^2\\right)+0,2.\n",
    "\\end{equation}\n",
    "\n",
    "We investigate the performance of 3 different variance estimators \n",
    "\n",
    "#### 1. Direct Estimator \n",
    "\n",
    "Härdle and Tsybakov propose the direct estimator \n",
    "\n",
    "\\begin{equation}\n",
    "\\sigma^2(X)=\\mbox{ E}\\left(Y^2 \\mid X\\right)-\\{m(X)\\}^2,\n",
    "\\end{equation}\n",
    "\n",
    "where $m$ is estimated with $m_n \\left(\\cdot \\right)$ and the other term $\\mbox{E}\\left(Y^2 \\mid X\\right)$ is estimated with a nonparametric regression estimator $v_n\\left(\\cdot, \\mathcal{D}_n\\right):[0,1] \\rightarrow \\mathbb{R}_{+}$. "
   ]
  },
  {
   "cell_type": "code",
   "execution_count": 6,
   "metadata": {},
   "outputs": [],
   "source": [
    "#Setting \n",
    "#Hyperparameter set-up\n",
    "\n",
    "n = 10000\n",
    "#h=0.2\n",
    "a=0.5\n",
    "\n",
    "b0 = -0.5\n",
    "b1 = -0.5\n",
    "\n",
    "#Data generation \n",
    "X = np.random.uniform(-2,2,n)\n",
    "X.sort()\n",
    "\n",
    "\n",
    "eps = eps(0, 1,  n)\n",
    "\n",
    "y = fan(X,n,a,eps)\n",
    "omega = bernoulli.rvs(pi(y,b0,b1), size=n)\n",
    "\n",
    "df = pd.DataFrame({'x':X,'y':y,'omega':omega})\n",
    "\n",
    "#ipw\n",
    "\n",
    "df['y_pi'] =  df['y'].apply(lambda t: t/pi(t,b0,b1))\n",
    "\n",
    "df['var'] = df['x'].apply(lambda t: sigma_reg(t,len(df)))\n",
    "\n",
    "df_cc = df.loc[df['omega']==1].reset_index(drop=True)"
   ]
  },
  {
   "cell_type": "code",
   "execution_count": null,
   "metadata": {},
   "outputs": [],
   "source": []
  },
  {
   "cell_type": "code",
   "execution_count": 3,
   "metadata": {},
   "outputs": [],
   "source": []
  },
  {
   "cell_type": "code",
   "execution_count": 4,
   "metadata": {},
   "outputs": [],
   "source": [
    "df['res_sq'] = df['res'].apply(lambda t: t**2)\n",
    "\n",
    "df['y_sq'] = df['y'].apply(lambda t: t**2)"
   ]
  },
  {
   "cell_type": "code",
   "execution_count": 5,
   "metadata": {},
   "outputs": [],
   "source": [
    "df_cc = df.loc[df['omega']==1].reset_index(drop=True)"
   ]
  },
  {
   "cell_type": "code",
   "execution_count": 6,
   "metadata": {},
   "outputs": [],
   "source": [
    "v_n = KernelReg(endog=[df.y_sq],exog=[df.x],reg_type='ll',var_type='c', bw='0.1')\n",
    "\n",
    "m_n = KernelReg(endog=[df.y],exog=[df.x],reg_type='ll',var_type='c', bw='0.1')\n",
    "\n",
    "#mn_cc = KernelReg(endog=[df_cc.y],exog=[df_cc.x],reg_type='lc',var_type='c', bw='cv_ls')\n",
    "\n"
   ]
  },
  {
   "cell_type": "code",
   "execution_count": 7,
   "metadata": {},
   "outputs": [],
   "source": [
    "def r_parallel(h):\n",
    "    #print(1)\n",
    "    def fn(j):\n",
    "        df1 = df.drop([j],axis=0)\n",
    "        y_hat = df.omega[j]*nw_mis(h,df.x[j],df1.x,df1.y,pi(df1.y,b0,b1),df1.omega)\n",
    "        return (df.omega[j]/pi(df.y[j],b0,b1))*(df.y[j]-y_hat)**2\n",
    "\n",
    "    with Pool(8) as p:\n",
    "        return np.mean(p.map(fn, range(len(df))))"
   ]
  },
  {
   "cell_type": "code",
   "execution_count": 8,
   "metadata": {},
   "outputs": [
    {
     "name": "stdout",
     "output_type": "stream",
     "text": [
      "CPU times: user 2 µs, sys: 1e+03 ns, total: 3 µs\n",
      "Wall time: 7.15 µs\n"
     ]
    }
   ],
   "source": [
    "%%time\n",
    "# r_parallel(0.1)\n",
    "#h_ipw = minimize(r_parallel, 0.1).x"
   ]
  },
  {
   "cell_type": "code",
   "execution_count": 9,
   "metadata": {},
   "outputs": [],
   "source": [
    "n = len(df)"
   ]
  },
  {
   "cell_type": "code",
   "execution_count": 10,
   "metadata": {},
   "outputs": [],
   "source": [
    "var_est = v_n.fit(np.linspace(-2, 2, n))[0] - (m_n.fit(np.linspace(-2, 2, n))[0])**2"
   ]
  },
  {
   "cell_type": "code",
   "execution_count": 11,
   "metadata": {},
   "outputs": [],
   "source": [
    "def sigma_dir(h,x,X,y):\n",
    "    Kernel = norm.pdf(x-X/h)\n",
    "    \n",
    "    #Estimate Y_n \n",
    "    num = sum(y*Kernel)\n",
    "    den = sum(Kernel)\n",
    "    mn= num/den\n",
    "    \n",
    "    #Estimate vn\n",
    "    num = sum((y**2)*Kernel)\n",
    "    den = sum(Kernel)\n",
    "    vn = num/den\n",
    "    return vn #- (mn)**2"
   ]
  },
  {
   "cell_type": "code",
   "execution_count": 12,
   "metadata": {},
   "outputs": [
    {
     "data": {
      "text/plain": [
       "-1.594234632306954"
      ]
     },
     "execution_count": 12,
     "metadata": {},
     "output_type": "execute_result"
    }
   ],
   "source": [
    "df['x'].max()"
   ]
  },
  {
   "cell_type": "code",
   "execution_count": 17,
   "metadata": {},
   "outputs": [
    {
     "data": {
      "text/plain": [
       "[<matplotlib.lines.Line2D at 0x7f9aa811aac0>]"
      ]
     },
     "execution_count": 17,
     "metadata": {},
     "output_type": "execute_result"
    },
    {
     "data": {
      "image/png": "[encoded data removed]",
      "text/plain": [
       "<Figure size 432x288 with 1 Axes>"
      ]
     },
     "metadata": {
      "needs_background": "light"
     },
     "output_type": "display_data"
    }
   ],
   "source": [
    "fig, ax = plt.subplots(1, 1)\n",
    "ax.plot(df['x'],sigma_reg(df['x'],n)**2,'o', color='black',markersize=3)\n",
    "\n",
    "#ax.plot(np.linspace(-2, 1.6, n),[sigma_dir(0.05,t,df['x'],df['y']) for t in np.linspace(-2,2,n)],var_est,color= 'red', lw=3)\n",
    "\n",
    "\n"
   ]
  },
  {
   "cell_type": "code",
   "execution_count": 14,
   "metadata": {},
   "outputs": [],
   "source": [
    "import numpy as np\n",
    "from scipy.stats import norm"
   ]
  },
  {
   "cell_type": "markdown",
   "metadata": {},
   "source": [
    "### Kernel function fixed Kernel and common bandwidth h"
   ]
  },
  {
   "cell_type": "code",
   "execution_count": 15,
   "metadata": {},
   "outputs": [
    {
     "data": {
      "text/plain": [
       "0.6563218599396502"
      ]
     },
     "execution_count": 15,
     "metadata": {},
     "output_type": "execute_result"
    }
   ],
   "source": [
    "sigma_dir(0.1,0.1,df['x'],df['y'])"
   ]
  },
  {
   "cell_type": "code",
   "execution_count": null,
   "metadata": {},
   "outputs": [],
   "source": []
  }
 ],
 "metadata": {
  "kernelspec": {
   "display_name": "Python 3",
   "language": "python",
   "name": "python3"
  },
  "language_info": {
   "codemirror_mode": {
    "name": "ipython",
    "version": 3
   },
   "file_extension": ".py",
   "mimetype": "text/x-python",
   "name": "python",
   "nbconvert_exporter": "python",
   "pygments_lexer": "ipython3",
   "version": "3.8.5"
  }
 },
 "nbformat": 4,
 "nbformat_minor": 4
}
